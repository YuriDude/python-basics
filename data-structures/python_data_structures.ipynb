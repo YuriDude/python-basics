{
  "nbformat": 4,
  "nbformat_minor": 0,
  "metadata": {
    "colab": {
      "provenance": []
    },
    "kernelspec": {
      "name": "python3",
      "display_name": "Python 3"
    },
    "language_info": {
      "name": "python"
    }
  },
  "cells": [
    {
      "cell_type": "code",
      "execution_count": null,
      "metadata": {
        "colab": {
          "base_uri": "https://localhost:8080/"
        },
        "id": "f21v6Q76ODfG",
        "outputId": "e560528b-8b62-47f6-8f08-451d0635e772"
      },
      "outputs": [
        {
          "output_type": "stream",
          "name": "stdout",
          "text": [
            "Tasks left: ['write report', 'check calendar', 'attend meeting', 'review pull request']\n",
            "Completed: send email\n"
          ]
        }
      ],
      "source": [
        "tasks = [\"write report\", \"send email\", \"attend meeting\"]\n",
        "tasks.append(\"review pull request\")        # Add a task at the end\n",
        "tasks.insert(1, \"check calendar\")          # Insert task at position 1\n",
        "completed_task = tasks.pop(2)              # Remove and return the item at index 2\n",
        "\n",
        "print(\"Tasks left:\", tasks)\n",
        "print(\"Completed:\", completed_task)\n"
      ]
    },
    {
      "cell_type": "code",
      "source": [
        "coordinates = (37.7749, -122.4194)  # Latitude and longitude of San Francisco\n",
        "print(f\"Latitude: {coordinates[0]}, Longitude: {coordinates[1]}\")\n"
      ],
      "metadata": {
        "colab": {
          "base_uri": "https://localhost:8080/"
        },
        "id": "lbr64V2ROHRP",
        "outputId": "73f22a4e-ece1-49e7-9956-434e56b2a9eb"
      },
      "execution_count": null,
      "outputs": [
        {
          "output_type": "stream",
          "name": "stdout",
          "text": [
            "Latitude: 37.7749, Longitude: -122.4194\n"
          ]
        }
      ]
    },
    {
      "cell_type": "code",
      "source": [
        "def min_max(numbers):\n",
        "    return (min(numbers), max(numbers))\n",
        "\n",
        "print(min_max([3, 7, 1, 9]))\n"
      ],
      "metadata": {
        "colab": {
          "base_uri": "https://localhost:8080/"
        },
        "id": "LhZxBmv7OQvV",
        "outputId": "0446cba4-09f9-4e62-c4e3-c370007ced21"
      },
      "execution_count": 15,
      "outputs": [
        {
          "output_type": "stream",
          "name": "stdout",
          "text": [
            "(1, 9)\n"
          ]
        }
      ]
    },
    {
      "cell_type": "code",
      "source": [
        "\n",
        "user = {\n",
        "    \"name\": \"Alice\",\n",
        "    \"email\": \"alice@example.com\",\n",
        "    \"is_active\": True\n",
        "}\n",
        "\n",
        "user[\"is_active\"] = False  # Update a value\n",
        "print(f\"User {user['name']} is active: {user['is_active']}\")\n"
      ],
      "metadata": {
        "colab": {
          "base_uri": "https://localhost:8080/"
        },
        "id": "sqPqVdKyOU2t",
        "outputId": "d69dc55e-4f19-4173-e5b3-ad875b0fe3cf"
      },
      "execution_count": null,
      "outputs": [
        {
          "output_type": "stream",
          "name": "stdout",
          "text": [
            "User Alice is active: False\n"
          ]
        }
      ]
    },
    {
      "cell_type": "code",
      "source": [
        "def word_count(text):\n",
        "    counts = {}\n",
        "    for word in text.lower().split():\n",
        "        counts[word] = counts.get(word, 0) + 1\n",
        "    return counts\n",
        "\n",
        "print(word_count(\"Python is powerful and Python is fast\"))\n"
      ],
      "metadata": {
        "colab": {
          "base_uri": "https://localhost:8080/"
        },
        "id": "vVc2POxDOa6w",
        "outputId": "48e42f99-9121-4d7a-fd1b-0ef4c8f13397"
      },
      "execution_count": 16,
      "outputs": [
        {
          "output_type": "stream",
          "name": "stdout",
          "text": [
            "{'python': 2, 'is': 2, 'powerful': 1, 'and': 1, 'fast': 1}\n"
          ]
        }
      ]
    },
    {
      "cell_type": "code",
      "source": [
        "python_devs = {\"Alice\", \"Bob\", \"Charlie\"}\n",
        "javascript_devs = {\"Alice\", \"Eve\", \"Dave\"}\n",
        "\n",
        "both = python_devs & javascript_devs           # Intersection\n",
        "either = python_devs | javascript_devs         # Union\n",
        "only_python = python_devs - javascript_devs    # Difference\n",
        "\n",
        "print(\"Knows both:\", both)\n",
        "print(\"Knows either:\", either)\n",
        "print(\"Knows only Python:\", only_python)\n"
      ],
      "metadata": {
        "colab": {
          "base_uri": "https://localhost:8080/"
        },
        "id": "fKueJgTGOjTU",
        "outputId": "9f226138-828a-4e14-a7bc-802776a2af60"
      },
      "execution_count": 17,
      "outputs": [
        {
          "output_type": "stream",
          "name": "stdout",
          "text": [
            "Knows both: {'Alice'}\n",
            "Knows either: {'Bob', 'Charlie', 'Eve', 'Dave', 'Alice'}\n",
            "Knows only Python: {'Bob', 'Charlie'}\n"
          ]
        }
      ]
    },
    {
      "cell_type": "code",
      "source": [
        "emails = [\"a@example.com\", \"b@example.com\", \"a@example.com\"]\n",
        "unique_emails = set(emails)\n",
        "print(unique_emails)\n"
      ],
      "metadata": {
        "colab": {
          "base_uri": "https://localhost:8080/"
        },
        "id": "iwH_C3m-Ops9",
        "outputId": "09327eb2-37dd-4695-d273-b084853cbcc4"
      },
      "execution_count": 18,
      "outputs": [
        {
          "output_type": "stream",
          "name": "stdout",
          "text": [
            "{'b@example.com', 'a@example.com'}\n"
          ]
        }
      ]
    },
    {
      "cell_type": "code",
      "source": [
        "from collections import deque\n",
        "\n",
        "# Initialize a deque\n",
        "tasks = deque([\"email client\", \"compile report\", \"team meeting\"])\n",
        "\n",
        "# Add a new urgent task to the beginning\n",
        "tasks.appendleft(\"fix production issue\")\n",
        "\n",
        "# Add a low-priority task to the end\n",
        "tasks.append(\"update documentation\")\n",
        "\n",
        "# Process tasks\n",
        "next_task = tasks.popleft()  # Handles \"fix production issue\"\n",
        "later_task = tasks.pop()     # Handles \"update documentation\"\n",
        "\n",
        "print(tasks)\n"
      ],
      "metadata": {
        "colab": {
          "base_uri": "https://localhost:8080/"
        },
        "id": "Y-uwsuqLOzRw",
        "outputId": "3361c4ac-777a-4c1d-8529-530286822351"
      },
      "execution_count": null,
      "outputs": [
        {
          "output_type": "stream",
          "name": "stdout",
          "text": [
            "deque(['email client', 'compile report', 'team meeting'])\n"
          ]
        }
      ]
    },
    {
      "cell_type": "code",
      "source": [
        "from collections import defaultdict\n",
        "# Group employees by department\n",
        "employees = [\n",
        "    (\"HR\", \"Alice\"),\n",
        "    (\"Engineering\", \"Bob\"),\n",
        "    (\"HR\", \"Carol\"),\n",
        "    (\"Engineering\", \"Dave\"),\n",
        "    (\"Sales\", \"Eve\")\n",
        "]\n",
        "departments = defaultdict(list)\n",
        "for dept, name in employees:\n",
        "    departments[dept].append(name)\n",
        "print(departments)\n"
      ],
      "metadata": {
        "colab": {
          "base_uri": "https://localhost:8080/"
        },
        "id": "jUV3pX1cPCCq",
        "outputId": "649060ba-31f3-443a-aae2-ce041eb471d9"
      },
      "execution_count": null,
      "outputs": [
        {
          "output_type": "stream",
          "name": "stdout",
          "text": [
            "defaultdict(<class 'list'>, {'HR': ['Alice', 'Carol'], 'Engineering': ['Bob', 'Dave'], 'Sales': ['Eve']})\n"
          ]
        }
      ]
    },
    {
      "cell_type": "code",
      "source": [
        "from collections import Counter\n",
        "# Analyze page visits\n",
        "page_visits = [\n",
        "    \"/home\", \"/products\", \"/about\", \"/products\", \"/home\", \"/contact\"\n",
        "]\n",
        "\n",
        "visit_counter = Counter(page_visits)\n",
        "# Most visited pages\n",
        "print(visit_counter.most_common(2))\n",
        "# Adding more page views\n",
        "visit_counter.update([\"/home\", \"/blog\"])\n",
        "print(visit_counter)\n"
      ],
      "metadata": {
        "colab": {
          "base_uri": "https://localhost:8080/"
        },
        "id": "5vm-xn4GPJGz",
        "outputId": "019a8fa0-4c84-4fcd-850a-0b3e9e2962dd"
      },
      "execution_count": null,
      "outputs": [
        {
          "output_type": "stream",
          "name": "stdout",
          "text": [
            "[('/home', 2), ('/products', 2)]\n",
            "Counter({'/home': 3, '/products': 2, '/about': 1, '/contact': 1, '/blog': 1})\n"
          ]
        }
      ]
    },
    {
      "cell_type": "code",
      "source": [
        "import heapq\n",
        "# Manage tasks by priority (lower number = higher priority)\n",
        "tasks = [(3, \"write report\"), (1, \"fix critical bug\"), (4, \"team meeting\")]\n",
        "\n",
        "# Convert the list into a heap\n",
        "heapq.heapify(tasks)\n",
        "\n",
        "# Add a new task\n",
        "heapq.heappush(tasks, (2, \"code review\"))\n",
        "\n",
        "# Process tasks by priority\n",
        "while tasks:\n",
        "    priority, task = heapq.heappop(tasks)\n",
        "    print(f\"Processing {task} with priority {priority}\")\n"
      ],
      "metadata": {
        "colab": {
          "base_uri": "https://localhost:8080/"
        },
        "id": "6xnPGZ-NPPtp",
        "outputId": "a7b9ae1a-e0cf-4b8b-a0bc-40240c5e597c"
      },
      "execution_count": null,
      "outputs": [
        {
          "output_type": "stream",
          "name": "stdout",
          "text": [
            "Processing fix critical bug with priority 1\n",
            "Processing code review with priority 2\n",
            "Processing write report with priority 3\n",
            "Processing team meeting with priority 4\n"
          ]
        }
      ]
    },
    {
      "cell_type": "code",
      "source": [],
      "metadata": {
        "id": "NWuvBkGiPVrv"
      },
      "execution_count": null,
      "outputs": []
    }
  ]
}