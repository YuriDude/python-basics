{
  "nbformat": 4,
  "nbformat_minor": 0,
  "metadata": {
    "colab": {
      "provenance": []
    },
    "kernelspec": {
      "name": "python3",
      "display_name": "Python 3"
    },
    "language_info": {
      "name": "python"
    }
  },
  "cells": [
    {
      "cell_type": "markdown",
      "source": [
        "## Mutable Default Arguments"
      ],
      "metadata": {
        "id": "1xD4WrXCjT3g"
      }
    },
    {
      "cell_type": "code",
      "execution_count": 5,
      "metadata": {
        "id": "5kKU9ebrcb_6"
      },
      "outputs": [],
      "source": [
        "def add_item(item, list_of_items=[]):\n",
        "    list_of_items.append(item)\n",
        "    return list_of_items"
      ]
    },
    {
      "cell_type": "code",
      "source": [
        "print(add_item(1))\n",
        "print(add_item(2))"
      ],
      "metadata": {
        "id": "yzExL8dFX0c9",
        "colab": {
          "base_uri": "https://localhost:8080/"
        },
        "outputId": "723bd79a-5d39-4372-f685-ad0c1649947d"
      },
      "execution_count": 6,
      "outputs": [
        {
          "output_type": "stream",
          "name": "stdout",
          "text": [
            "[1]\n",
            "[1, 2]\n"
          ]
        }
      ]
    },
    {
      "cell_type": "code",
      "source": [
        "def add_item(item, list_of_items=None):\n",
        "    if list_of_items is None:\n",
        "        list_of_items = []\n",
        "    list_of_items.append(item)\n",
        "    return list_of_items"
      ],
      "metadata": {
        "id": "K9E_FAEqhpcj"
      },
      "execution_count": 7,
      "outputs": []
    },
    {
      "cell_type": "code",
      "source": [
        "print(add_item(1))\n",
        "print(add_item(2))"
      ],
      "metadata": {
        "colab": {
          "base_uri": "https://localhost:8080/"
        },
        "id": "J1sRQf_nh4RN",
        "outputId": "7dca28a3-4ef0-4b07-fd03-b56fa9662093"
      },
      "execution_count": 8,
      "outputs": [
        {
          "output_type": "stream",
          "name": "stdout",
          "text": [
            "[1]\n",
            "[2]\n"
          ]
        }
      ]
    },
    {
      "cell_type": "markdown",
      "source": [
        "## Late Binding Closures"
      ],
      "metadata": {
        "id": "L2xJBvuljPoP"
      }
    },
    {
      "cell_type": "code",
      "source": [
        "functions = []\n",
        "for i in range(3):\n",
        "    functions.append(lambda: i)\n",
        "\n",
        "print([f() for f in functions])"
      ],
      "metadata": {
        "colab": {
          "base_uri": "https://localhost:8080/"
        },
        "id": "ynyKwa2RiGo-",
        "outputId": "2cbb21ea-12bc-4f3f-86db-5e7a517cc362"
      },
      "execution_count": 9,
      "outputs": [
        {
          "output_type": "stream",
          "name": "stdout",
          "text": [
            "[2, 2, 2]\n"
          ]
        }
      ]
    },
    {
      "cell_type": "code",
      "source": [
        "functions = []\n",
        "for i in range(3):\n",
        "    functions.append(lambda x=i: x)  # Using default argument to capture current value\n",
        "\n",
        "print([f() for f in functions])"
      ],
      "metadata": {
        "colab": {
          "base_uri": "https://localhost:8080/"
        },
        "id": "YB_x4K5ziYaG",
        "outputId": "e2c9caf3-0d94-40fd-a3d6-282e02f43d6e"
      },
      "execution_count": 10,
      "outputs": [
        {
          "output_type": "stream",
          "name": "stdout",
          "text": [
            "[0, 1, 2]\n"
          ]
        }
      ]
    },
    {
      "cell_type": "markdown",
      "source": [
        "## Identity vs. Equality"
      ],
      "metadata": {
        "id": "xgWze-27jLWA"
      }
    },
    {
      "cell_type": "code",
      "source": [
        "# Integer caching\n",
        "a = 256\n",
        "b = 256\n",
        "print(a is b)"
      ],
      "metadata": {
        "id": "GQDWkQXSX03i",
        "colab": {
          "base_uri": "https://localhost:8080/"
        },
        "outputId": "817045fc-7531-4027-be54-053cfa232cf7"
      },
      "execution_count": 1,
      "outputs": [
        {
          "output_type": "stream",
          "name": "stdout",
          "text": [
            "True\n"
          ]
        }
      ]
    },
    {
      "cell_type": "code",
      "source": [
        "c = 257\n",
        "d = 257\n",
        "print(c is d)"
      ],
      "metadata": {
        "id": "htZVCasxX2fF",
        "colab": {
          "base_uri": "https://localhost:8080/"
        },
        "outputId": "ea8ac079-6897-478d-c00f-f383d5643a96"
      },
      "execution_count": 2,
      "outputs": [
        {
          "output_type": "stream",
          "name": "stdout",
          "text": [
            "False\n"
          ]
        }
      ]
    },
    {
      "cell_type": "code",
      "source": [
        "# String interning\n",
        "x = \"hello\"\n",
        "y = \"hello\"\n",
        "print(x is y)"
      ],
      "metadata": {
        "id": "1T2xgVk5X4Rk",
        "colab": {
          "base_uri": "https://localhost:8080/"
        },
        "outputId": "b133aae7-5744-4e7a-bf1a-eeffcc69122e"
      },
      "execution_count": 3,
      "outputs": [
        {
          "output_type": "stream",
          "name": "stdout",
          "text": [
            "True\n"
          ]
        }
      ]
    },
    {
      "cell_type": "code",
      "source": [
        "p = \"hello!\"\n",
        "q = \"hello!\"\n",
        "print(p is q)"
      ],
      "metadata": {
        "id": "yH_RlLOpX6IV",
        "colab": {
          "base_uri": "https://localhost:8080/"
        },
        "outputId": "d142a5f3-03a6-4cf8-c518-5e940003b2d4"
      },
      "execution_count": 4,
      "outputs": [
        {
          "output_type": "stream",
          "name": "stdout",
          "text": [
            "False\n"
          ]
        }
      ]
    },
    {
      "cell_type": "markdown",
      "source": [
        "## Variable Unpacking Surprises"
      ],
      "metadata": {
        "id": "OvZn0KQmjHxd"
      }
    },
    {
      "cell_type": "code",
      "source": [
        "a, b = 1, 2\n",
        "print(a, b)"
      ],
      "metadata": {
        "colab": {
          "base_uri": "https://localhost:8080/"
        },
        "id": "h1gPz7jec9h3",
        "outputId": "2ee15a27-d3a6-4b34-e188-cbdd302fd0e9"
      },
      "execution_count": 11,
      "outputs": [
        {
          "output_type": "stream",
          "name": "stdout",
          "text": [
            "1 2\n"
          ]
        }
      ]
    },
    {
      "cell_type": "code",
      "source": [
        "a, *b = 1, 2, 3, 4\n",
        "print(a, b)"
      ],
      "metadata": {
        "colab": {
          "base_uri": "https://localhost:8080/"
        },
        "id": "7IDBOIodifXf",
        "outputId": "19d98c5f-4167-45a3-ce1f-f6171a09bbba"
      },
      "execution_count": 15,
      "outputs": [
        {
          "output_type": "stream",
          "name": "stdout",
          "text": [
            "1 [2, 3, 4]\n"
          ]
        }
      ]
    },
    {
      "cell_type": "code",
      "source": [
        "a, *b, = 1,\n",
        "print(a, b)"
      ],
      "metadata": {
        "colab": {
          "base_uri": "https://localhost:8080/"
        },
        "id": "517VRX0UihiE",
        "outputId": "19cf3eed-ccfc-4b01-e0eb-120e2e8be7b4"
      },
      "execution_count": 14,
      "outputs": [
        {
          "output_type": "stream",
          "name": "stdout",
          "text": [
            "1 []\n"
          ]
        }
      ]
    },
    {
      "cell_type": "code",
      "source": [
        "(*a,) = [1, 2, 3]\n",
        "print(a)"
      ],
      "metadata": {
        "colab": {
          "base_uri": "https://localhost:8080/"
        },
        "id": "HJzv3JivijVI",
        "outputId": "696d000f-3402-4591-8fad-97859b9ae5b7"
      },
      "execution_count": 16,
      "outputs": [
        {
          "output_type": "stream",
          "name": "stdout",
          "text": [
            "[1, 2, 3]\n"
          ]
        }
      ]
    },
    {
      "cell_type": "markdown",
      "source": [
        "## List Multiplication"
      ],
      "metadata": {
        "id": "dLE9l8GVjD7e"
      }
    },
    {
      "cell_type": "code",
      "source": [
        "# Simple list multiplication\n",
        "simple_list = [1] * 3\n",
        "print(simple_list)"
      ],
      "metadata": {
        "colab": {
          "base_uri": "https://localhost:8080/"
        },
        "id": "CMWsqdvHinte",
        "outputId": "75e0ac5b-0c51-4379-af61-9d90a7d0f761"
      },
      "execution_count": 17,
      "outputs": [
        {
          "output_type": "stream",
          "name": "stdout",
          "text": [
            "[1, 1, 1]\n"
          ]
        }
      ]
    },
    {
      "cell_type": "code",
      "source": [
        "nested_list = [[1, 2]] * 3\n",
        "print(nested_list)"
      ],
      "metadata": {
        "colab": {
          "base_uri": "https://localhost:8080/"
        },
        "id": "Tb27gHK6irCB",
        "outputId": "d3535272-84fe-470b-9699-6106f608ab4f"
      },
      "execution_count": 18,
      "outputs": [
        {
          "output_type": "stream",
          "name": "stdout",
          "text": [
            "[[1, 2], [1, 2], [1, 2]]\n"
          ]
        }
      ]
    },
    {
      "cell_type": "code",
      "source": [
        "nested_list[0][0] = 5\n",
        "print(nested_list)"
      ],
      "metadata": {
        "colab": {
          "base_uri": "https://localhost:8080/"
        },
        "id": "P_69Sf_ois7E",
        "outputId": "741d89eb-5d99-4174-99d9-3a9fbcb760f9"
      },
      "execution_count": 19,
      "outputs": [
        {
          "output_type": "stream",
          "name": "stdout",
          "text": [
            "[[5, 2], [5, 2], [5, 2]]\n"
          ]
        }
      ]
    },
    {
      "cell_type": "code",
      "source": [
        "nested_list = [[1, 2] for _ in range(3)]\n",
        "nested_list[0][0] = 5\n",
        "print(nested_list)"
      ],
      "metadata": {
        "colab": {
          "base_uri": "https://localhost:8080/"
        },
        "id": "tPOyPvwfivCc",
        "outputId": "bfe03323-b992-4a7e-bdb4-d03e76d3d2a8"
      },
      "execution_count": 20,
      "outputs": [
        {
          "output_type": "stream",
          "name": "stdout",
          "text": [
            "[[5, 2], [1, 2], [1, 2]]\n"
          ]
        }
      ]
    }
  ]
}