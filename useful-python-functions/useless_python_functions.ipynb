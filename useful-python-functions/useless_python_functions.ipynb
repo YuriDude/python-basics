{
  "nbformat": 4,
  "nbformat_minor": 0,
  "metadata": {
    "colab": {
      "provenance": []
    },
    "kernelspec": {
      "name": "python3",
      "display_name": "Python 3"
    },
    "language_info": {
      "name": "python"
    }
  },
  "cells": [
    {
      "cell_type": "code",
      "execution_count": 9,
      "metadata": {
        "colab": {
          "base_uri": "https://localhost:8080/"
        },
        "id": "l0U2hADqYEll",
        "outputId": "094db3c8-5d5e-4446-9aa7-bb557bcf91cc"
      },
      "outputs": [
        {
          "output_type": "stream",
          "name": "stdout",
          "text": [
            "This is a multi-line string\n",
            "that will have consistent indentation\n",
            "regardless of how it's indented in the code.\n",
            "Pretty neat, right?\n"
          ]
        }
      ],
      "source": [
        "import textwrap\n",
        "\n",
        "def my_function():\n",
        "    # Without dedent, this would preserve all the leading spaces\n",
        "    description = textwrap.dedent(\"\"\"\n",
        "        This is a multi-line string\n",
        "        that will have consistent indentation\n",
        "        regardless of how it's indented in the code.\n",
        "        Pretty neat, right?\n",
        "    \"\"\").strip()\n",
        "\n",
        "    return description\n",
        "\n",
        "print(my_function())\n"
      ]
    },
    {
      "cell_type": "code",
      "source": [
        "import difflib\n",
        "\n",
        "words = [\"python\", \"javascript\", \"typescript\", \"ruby\", \"golang\"]\n",
        "search = \"pythn\"\n",
        "\n",
        "matches = difflib.get_close_matches(search, words, n=3, cutoff=0.6)\n",
        "print(f\"Did you mean: {matches}\")\n",
        "\n",
        "search = \"typescript\"\n",
        "matches = difflib.get_close_matches(search, words)\n",
        "print(f\"Matches: {matches}\")\n"
      ],
      "metadata": {
        "colab": {
          "base_uri": "https://localhost:8080/"
        },
        "id": "-V3keWnzYVcZ",
        "outputId": "492750f6-c813-4953-e0a2-badbda57c0ed"
      },
      "execution_count": 10,
      "outputs": [
        {
          "output_type": "stream",
          "name": "stdout",
          "text": [
            "Did you mean: ['python']\n",
            "Matches: ['typescript', 'javascript']\n"
          ]
        }
      ]
    },
    {
      "cell_type": "code",
      "source": [
        "import uuid\n",
        "\n",
        "# Generate a random UUID\n",
        "random_id = uuid.uuid4()\n",
        "print(f\"Unique ID: {random_id}\")\n",
        "\n",
        "# Use as string for filenames, database keys, etc.\n",
        "filename = f\"document-{uuid.uuid4()}.pdf\"\n",
        "print(filename)\n"
      ],
      "metadata": {
        "colab": {
          "base_uri": "https://localhost:8080/"
        },
        "id": "1VDXGK32YeMG",
        "outputId": "0f9c8905-324a-446d-c12f-16ebe3004584"
      },
      "execution_count": 11,
      "outputs": [
        {
          "output_type": "stream",
          "name": "stdout",
          "text": [
            "Unique ID: fc4c6638-9707-437b-83a1-76206b5f7191\n",
            "document-b5ccbe7a-fad9-4611-8163-be1015c634b9.pdf\n"
          ]
        }
      ]
    },
    {
      "cell_type": "code",
      "source": [
        "import shutil\n",
        "\n",
        "columns, rows = shutil.get_terminal_size()\n",
        "print(f\"Your terminal is {columns} columns wide and {rows} rows tall\")\n",
        "\n",
        "# Create a horizontal divider that fits perfectly\n",
        "print(\"-\" * columns)\n"
      ],
      "metadata": {
        "colab": {
          "base_uri": "https://localhost:8080/"
        },
        "id": "l8mLXo4UZq7v",
        "outputId": "6fa7fb2f-bfbc-4b9d-8ba5-6500dbb1d599"
      },
      "execution_count": 12,
      "outputs": [
        {
          "output_type": "stream",
          "name": "stdout",
          "text": [
            "Your terminal is 80 columns wide and 24 rows tall\n",
            "--------------------------------------------------------------------------------\n"
          ]
        }
      ]
    },
    {
      "cell_type": "code",
      "source": [
        "from itertools import groupby\n",
        "from operator import itemgetter\n",
        "\n",
        "# Sample data: (name, department)\n",
        "employees = [\n",
        "    (\"Alice\", \"Engineering\"),\n",
        "    (\"Bob\", \"Marketing\"),\n",
        "    (\"Charlie\", \"Engineering\"),\n",
        "    (\"Diana\", \"HR\"),\n",
        "    (\"Evan\", \"Marketing\"),\n",
        "]\n",
        "\n",
        "# Sort by department first (groupby works on consecutive items)\n",
        "employees.sort(key=itemgetter(1))\n",
        "\n",
        "# Group by department\n",
        "for department, group in groupby(employees, key=itemgetter(1)):\n",
        "    print(f\"\\n{department} Department:\")\n",
        "    for name, _ in group:\n",
        "        print(f\"  - {name}\")\n"
      ],
      "metadata": {
        "colab": {
          "base_uri": "https://localhost:8080/"
        },
        "id": "RuBPV4akZ26d",
        "outputId": "d0a1cf22-eb84-4bbc-c8ac-b31a1863fab8"
      },
      "execution_count": 13,
      "outputs": [
        {
          "output_type": "stream",
          "name": "stdout",
          "text": [
            "\n",
            "Engineering Department:\n",
            "  - Alice\n",
            "  - Charlie\n",
            "\n",
            "HR Department:\n",
            "  - Diana\n",
            "\n",
            "Marketing Department:\n",
            "  - Bob\n",
            "  - Evan\n"
          ]
        }
      ]
    },
    {
      "cell_type": "code",
      "source": [
        "from collections import ChainMap\n",
        "\n",
        "defaults = {\"theme\": \"dark\", \"language\": \"en\", \"timeout\": 30}\n",
        "user_settings = {\"theme\": \"light\"}\n",
        "session_settings = {\"timeout\": 60}\n",
        "\n",
        "# Create a combined view of all settings\n",
        "settings = ChainMap(session_settings, user_settings, defaults)\n",
        "\n",
        "print(settings[\"theme\"])\n",
        "print(settings[\"language\"])\n",
        "print(settings[\"timeout\"])\n"
      ],
      "metadata": {
        "colab": {
          "base_uri": "https://localhost:8080/"
        },
        "id": "upb3AgmhaYBt",
        "outputId": "515168f7-c6ab-4d60-f9ce-3ceea58353fc"
      },
      "execution_count": 14,
      "outputs": [
        {
          "output_type": "stream",
          "name": "stdout",
          "text": [
            "light\n",
            "en\n",
            "60\n"
          ]
        }
      ]
    },
    {
      "cell_type": "code",
      "source": [
        "import os.path\n",
        "\n",
        "paths = [\n",
        "    \"/home/user/documents/work/report.pdf\",\n",
        "    \"/home/user/documents/personal/taxes.xlsx\",\n",
        "    \"/home/user/documents/work/presentation.pptx\"\n",
        "]\n",
        "\n",
        "common = os.path.commonpath(paths)\n",
        "print(f\"Common directory: {common}\")"
      ],
      "metadata": {
        "colab": {
          "base_uri": "https://localhost:8080/"
        },
        "id": "59u6rRgdbNH8",
        "outputId": "17053c61-d0dc-4f19-c9e5-e07f011eff91"
      },
      "execution_count": 15,
      "outputs": [
        {
          "output_type": "stream",
          "name": "stdout",
          "text": [
            "Common directory: /home/user/documents\n"
          ]
        }
      ]
    },
    {
      "cell_type": "code",
      "source": [],
      "metadata": {
        "id": "Lo3SDGvhcPWY"
      },
      "execution_count": 15,
      "outputs": []
    }
  ]
}