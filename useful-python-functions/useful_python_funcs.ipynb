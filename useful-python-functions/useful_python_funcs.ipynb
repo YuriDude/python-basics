{
  "nbformat": 4,
  "nbformat_minor": 0,
  "metadata": {
    "colab": {
      "provenance": []
    },
    "kernelspec": {
      "name": "python3",
      "display_name": "Python 3"
    },
    "language_info": {
      "name": "python"
    }
  },
  "cells": [
    {
      "cell_type": "code",
      "execution_count": null,
      "metadata": {
        "colab": {
          "base_uri": "https://localhost:8080/"
        },
        "id": "3mRSgpziXAsP",
        "outputId": "dd718f3b-1c10-4dbd-bb97-9b9d2df14045"
      },
      "outputs": [
        {
          "output_type": "stream",
          "name": "stdout",
          "text": [
            "Insert 82 at position: 3\n",
            "Grades after insertion: [60, 70, 75, 82, 85, 90, 95]\n",
            "Score 82 gets grade: B\n",
            "Score 75 gets grade: C\n"
          ]
        }
      ],
      "source": [
        "from bisect import bisect_left, bisect_right, insort\n",
        "\n",
        "# Let's create a grade tracking system\n",
        "grades = [60, 70, 75, 85, 90, 95]\n",
        "\n",
        "# Find where to insert a new grade while keeping the list sorted\n",
        "new_grade = 82\n",
        "position = bisect_left(grades, new_grade)\n",
        "print(f\"Insert 82 at position: {position}\")\n",
        "\n",
        "# Insert while maintaining sort order\n",
        "insort(grades, new_grade)\n",
        "print(f\"Grades after insertion: {grades}\")\n",
        "\n",
        "# Find grade ranges\n",
        "def grade_to_letter(score):\n",
        "\tbreakpoints = [60, 70, 80, 90]  # F, D, C, B, A\n",
        "\tgrades = 'FDCBA'\n",
        "\tposition = bisect_right(breakpoints, score)\n",
        "\treturn grades[position]\n",
        "\n",
        "print(f\"Score 82 gets grade: {grade_to_letter(82)}\")\n",
        "print(f\"Score 75 gets grade: {grade_to_letter(75)}\")\n"
      ]
    },
    {
      "cell_type": "code",
      "source": [
        "from itertools import pairwise\n",
        "\n",
        "# Let's analyze temperature changes\n",
        "temperatures = [20, 23, 24, 25, 23, 22, 20]\n",
        "\n",
        "# Calculate temperature changes between consecutive readings\n",
        "changes = []\n",
        "for prev, curr in pairwise(temperatures):\n",
        "\tchange = curr - prev\n",
        "\tchanges.append(change)\n",
        "\n",
        "print(\"Temperature changes:\", changes)\n",
        "\n",
        "\n",
        "# Calculate moving averages\n",
        "moving_averages = []\n",
        "for t1, t2 in pairwise(temperatures):\n",
        "\tavg = (t1 + t2) / 2\n",
        "\tmoving_averages.append(avg)\n",
        "\n",
        "print(\"Moving averages:\", moving_averages)\n",
        "\n",
        "# Finding the largest temperature jump\n",
        "max_jump = max(abs(b - a) for a, b in pairwise(temperatures))\n",
        "print(f\"Largest temperature change: {max_jump} degrees\")\n"
      ],
      "metadata": {
        "colab": {
          "base_uri": "https://localhost:8080/"
        },
        "id": "DMDrJ59jbtSG",
        "outputId": "4e3f0959-a599-4583-ac4a-d80a1582146a"
      },
      "execution_count": 1,
      "outputs": [
        {
          "output_type": "stream",
          "name": "stdout",
          "text": [
            "Temperature changes: [3, 1, 1, -2, -1, -2]\n",
            "Moving averages: [21.5, 23.5, 24.5, 24.0, 22.5, 21.0]\n",
            "Largest temperature change: 3 degrees\n"
          ]
        }
      ]
    },
    {
      "cell_type": "code",
      "source": [
        "from statistics import mean, fmean\n",
        "import time\n",
        "\n",
        "# Let's compare fmean with traditional mean using a real-world example\n",
        "# Imagine we're analyzing daily temperature readings\n",
        "temperatures = [\n",
        "\t21.5, 22.1, 23.4, 22.8, 21.8,\n",
        "\t23.2, 22.7, 23.1, 22.6, 21.9\n",
        "] * 100000  # Create a large dataset\n",
        "\n",
        "# Let's compare speed and precision\n",
        "start_time = time.perf_counter()\n",
        "regular_mean = mean(temperatures)\n",
        "regular_time = time.perf_counter() - start_time\n",
        "\n",
        "start_time = time.perf_counter()\n",
        "fast_mean = fmean(temperatures)\n",
        "fast_time = time.perf_counter() - start_time\n",
        "\n",
        "print(f\"Regular mean: {regular_mean:.10f} (took {regular_time:.4f} seconds)\")\n",
        "print(f\"fmean: {fast_mean:.10f} (took {fast_time:.4f} seconds)\")\n"
      ],
      "metadata": {
        "colab": {
          "base_uri": "https://localhost:8080/"
        },
        "id": "_-cprD99bAFI",
        "outputId": "baf69e43-eb79-489b-ac49-a62bffdd79c7"
      },
      "execution_count": null,
      "outputs": [
        {
          "output_type": "stream",
          "name": "stdout",
          "text": [
            "Regular mean: 22.5100000000 (took 0.4748 seconds)\n",
            "fmean: 22.5100000000 (took 0.0164 seconds)\n"
          ]
        }
      ]
    },
    {
      "cell_type": "code",
      "source": [
        "from itertools import takewhile\n",
        "\n",
        "# Processing log entries until an error\n",
        "log_entries = [\n",
        "\t\"INFO: System started\",\n",
        "\t\"INFO: Loading data\",\n",
        "\t\"INFO: Processing users\",\n",
        "\t\"ERROR: Database connection failed\",\n",
        "\t\"INFO: Retrying connection\",\n",
        "]\n",
        "\n",
        "# Get all logs until first error\n",
        "normal_operation = list(takewhile(\n",
        "\tlambda x: not x.startswith(\"ERROR\"),\n",
        "\tlog_entries\n",
        "))\n",
        "print(\"Logs before first error:\")\n",
        "for entry in normal_operation:\n",
        "\tprint(entry)\n"
      ],
      "metadata": {
        "colab": {
          "base_uri": "https://localhost:8080/"
        },
        "id": "TOWLuHrQbNry",
        "outputId": "ad885da6-3709-4382-9bd0-c88c7ab19b95"
      },
      "execution_count": null,
      "outputs": [
        {
          "output_type": "stream",
          "name": "stdout",
          "text": [
            "Logs before first error:\n",
            "INFO: System started\n",
            "INFO: Loading data\n",
            "INFO: Processing users\n"
          ]
        }
      ]
    },
    {
      "cell_type": "code",
      "source": [
        "from operator import attrgetter\n",
        "from datetime import datetime\n",
        "\n",
        "# Let's create a simple class to demonstrate\n",
        "class Article:\n",
        "    def __init__(self, title, author, views, date):\n",
        "        self.title = title\n",
        "        self.author = author\n",
        "        self.stats = type('Stats', (), {'views': views})  # Nested attribute\n",
        "        self.date = date\n",
        "\n",
        "    def __repr__(self):\n",
        "        return f\"{self.title} by {self.author}\"\n",
        "\n",
        "# Create some sample articles\n",
        "articles = [\n",
        "\tArticle(\"Python Tips\", \"Alice\", 1500, datetime(2025, 1, 15)),\n",
        "\tArticle(\"Data Science\", \"Bob\", 2500, datetime(2025, 1, 20)),\n",
        "\tArticle(\"Web Dev\", \"Alice\", 1800, datetime(2025, 1, 10))\n",
        "]\n",
        "\n",
        "# Sort articles by multiple criteria\n",
        "get_author_views = attrgetter('author', 'stats.views')\n",
        "\n",
        "# Sort by author and then by views\n",
        "sorted_articles = sorted(articles, key=get_author_views)\n",
        "for article in sorted_articles:\n",
        "\tprint(f\"{article.author}: {article.title} ({article.stats.views} views)\")\n",
        "\n",
        "# You can also use it to extract specific attributes\n",
        "dates = list(map(attrgetter('date'), articles))\n",
        "print(\"\\nArticle dates:\", dates)\n"
      ],
      "metadata": {
        "colab": {
          "base_uri": "https://localhost:8080/"
        },
        "id": "5BZsBwtccPnL",
        "outputId": "881898ba-f71e-4055-c4da-29930742f206"
      },
      "execution_count": 2,
      "outputs": [
        {
          "output_type": "stream",
          "name": "stdout",
          "text": [
            "Alice: Python Tips (1500 views)\n",
            "Alice: Web Dev (1800 views)\n",
            "Bob: Data Science (2500 views)\n",
            "\n",
            "Article dates: [datetime.datetime(2025, 1, 15, 0, 0), datetime.datetime(2025, 1, 20, 0, 0), datetime.datetime(2025, 1, 10, 0, 0)]\n"
          ]
        }
      ]
    },
    {
      "cell_type": "code",
      "source": [
        "from itertools import chain\n",
        "\n",
        "# Let's say we're processing data from multiple sources\n",
        "sales_data = [\n",
        "\t[('Jan', 100), ('Feb', 150)],\n",
        "\t[('Mar', 200), ('Apr', 180)],\n",
        "\t[('May', 210), ('Jun', 190)]\n",
        "]\n",
        "\n",
        "# Flatten the data efficiently\n",
        "flat_sales = list(chain.from_iterable(sales_data))\n",
        "print(\"Flattened sales data:\", flat_sales)\n",
        "\n",
        "# List comprehension approach (creates intermediate list):\n",
        "flat_list = [item for sublist in sales_data for item in sublist]\n",
        "\n",
        "# chain.from_iterable approach (generates items one at a time):\n",
        "flat_iterator = chain.from_iterable(sales_data)\n"
      ],
      "metadata": {
        "colab": {
          "base_uri": "https://localhost:8080/"
        },
        "id": "ypIugob-dKrI",
        "outputId": "1b769ce6-85d2-4f27-f9a9-17755b15a88e"
      },
      "execution_count": null,
      "outputs": [
        {
          "output_type": "stream",
          "name": "stdout",
          "text": [
            "Flattened sales data: [('Jan', 100), ('Feb', 150), ('Mar', 200), ('Apr', 180), ('May', 210), ('Jun', 190)]\n"
          ]
        }
      ]
    },
    {
      "cell_type": "code",
      "source": [
        "from itertools import product\n",
        "\n",
        "# Available options for a custom laptop\n",
        "processors = ['i5', 'i7', 'i9']\n",
        "ram = ['8GB', '16GB', '32GB']\n",
        "storage = ['256GB', '512GB', '1TB']\n",
        "\n",
        "# Generate all possible combinations\n",
        "configurations = list(product(processors, ram, storage))\n",
        "\n",
        "print(\"Possible laptop configurations:\")\n",
        "for config in configurations:\n",
        "\tprint(f\"Processor: {config[0]}, RAM: {config[1]}, Storage: {config[2]}\")\n"
      ],
      "metadata": {
        "colab": {
          "base_uri": "https://localhost:8080/"
        },
        "id": "7CizPOYGfgIC",
        "outputId": "308a292f-4b88-433f-8304-c369c7e22076"
      },
      "execution_count": null,
      "outputs": [
        {
          "output_type": "stream",
          "name": "stdout",
          "text": [
            "Possible laptop configurations:\n",
            "Processor: i5, RAM: 8GB, Storage: 256GB\n",
            "Processor: i5, RAM: 8GB, Storage: 512GB\n",
            "Processor: i5, RAM: 8GB, Storage: 1TB\n",
            "Processor: i5, RAM: 16GB, Storage: 256GB\n",
            "Processor: i5, RAM: 16GB, Storage: 512GB\n",
            "Processor: i5, RAM: 16GB, Storage: 1TB\n",
            "Processor: i5, RAM: 32GB, Storage: 256GB\n",
            "Processor: i5, RAM: 32GB, Storage: 512GB\n",
            "Processor: i5, RAM: 32GB, Storage: 1TB\n",
            "Processor: i7, RAM: 8GB, Storage: 256GB\n",
            "Processor: i7, RAM: 8GB, Storage: 512GB\n",
            "Processor: i7, RAM: 8GB, Storage: 1TB\n",
            "Processor: i7, RAM: 16GB, Storage: 256GB\n",
            "Processor: i7, RAM: 16GB, Storage: 512GB\n",
            "Processor: i7, RAM: 16GB, Storage: 1TB\n",
            "Processor: i7, RAM: 32GB, Storage: 256GB\n",
            "Processor: i7, RAM: 32GB, Storage: 512GB\n",
            "Processor: i7, RAM: 32GB, Storage: 1TB\n",
            "Processor: i9, RAM: 8GB, Storage: 256GB\n",
            "Processor: i9, RAM: 8GB, Storage: 512GB\n",
            "Processor: i9, RAM: 8GB, Storage: 1TB\n",
            "Processor: i9, RAM: 16GB, Storage: 256GB\n",
            "Processor: i9, RAM: 16GB, Storage: 512GB\n",
            "Processor: i9, RAM: 16GB, Storage: 1TB\n",
            "Processor: i9, RAM: 32GB, Storage: 256GB\n",
            "Processor: i9, RAM: 32GB, Storage: 512GB\n",
            "Processor: i9, RAM: 32GB, Storage: 1TB\n"
          ]
        }
      ]
    },
    {
      "cell_type": "code",
      "source": [],
      "metadata": {
        "id": "S4NDCtY0fmKX"
      },
      "execution_count": null,
      "outputs": []
    }
  ]
}