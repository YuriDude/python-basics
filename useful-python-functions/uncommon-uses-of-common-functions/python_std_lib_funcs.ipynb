{
  "nbformat": 4,
  "nbformat_minor": 0,
  "metadata": {
    "colab": {
      "provenance": []
    },
    "kernelspec": {
      "name": "python3",
      "display_name": "Python 3"
    },
    "language_info": {
      "name": "python"
    }
  },
  "cells": [
    {
      "cell_type": "code",
      "execution_count": null,
      "metadata": {
        "colab": {
          "base_uri": "https://localhost:8080/"
        },
        "id": "w_K1XyZaIs0F",
        "outputId": "dc5035d0-da34-40b6-e159-5934acdd790f"
      },
      "outputs": [
        {
          "output_type": "stream",
          "name": "stdout",
          "text": [
            "[('login', 2), ('browse', 3), ('purchase', 1), ('logout', 2)]\n",
            "Session lasted 8 actions\n"
          ]
        }
      ],
      "source": [
        "from itertools import groupby\n",
        "\n",
        "# Analyze user activity patterns from server logs\n",
        "user_actions = ['login', 'login', 'browse', 'browse', 'browse',\n",
        "                'purchase', 'logout', 'logout']\n",
        "\n",
        "# Compress into pattern summary\n",
        "activity_patterns = [(action, len(list(group)))\n",
        "                    for action, group in groupby(user_actions)]\n",
        "\n",
        "print(activity_patterns)\n",
        "\n",
        "# Calculate total time spent in each activity phase\n",
        "total_duration = sum(count for action, count in activity_patterns)\n",
        "print(f\"Session lasted {total_duration} actions\")\n"
      ]
    },
    {
      "cell_type": "code",
      "source": [
        "# Quarterly sales data organized by product lines\n",
        "quarterly_sales = [\n",
        "    [120, 135, 148, 162],  # Product A by quarter\n",
        "    [95, 102, 118, 125],   # Product B by quarter\n",
        "    [87, 94, 101, 115]     # Product C by quarter\n",
        "]\n",
        "\n",
        "# Transform to quarterly view across all products\n",
        "by_quarter = list(zip(*quarterly_sales))\n",
        "print(\"Sales by quarter:\", by_quarter)\n",
        "\n",
        "# Calculate quarterly growth rates\n",
        "quarterly_totals = [sum(quarter) for quarter in by_quarter]\n",
        "growth_rates = [(quarterly_totals[i] - quarterly_totals[i-1]) / quarterly_totals[i-1] * 100\n",
        "                for i in range(1, len(quarterly_totals))]\n",
        "print(f\"Growth rates: {[f'{rate:.1f}%' for rate in growth_rates]}\")\n"
      ],
      "metadata": {
        "colab": {
          "base_uri": "https://localhost:8080/"
        },
        "id": "NZjVoCKHI0AQ",
        "outputId": "9d593d43-e16d-459a-859d-52b45566f2a3"
      },
      "execution_count": null,
      "outputs": [
        {
          "output_type": "stream",
          "name": "stdout",
          "text": [
            "Sales by quarter: [(120, 95, 87), (135, 102, 94), (148, 118, 101), (162, 125, 115)]\n",
            "Growth rates: ['9.6%', '10.9%', '9.5%']\n"
          ]
        }
      ]
    },
    {
      "cell_type": "code",
      "source": [
        "import bisect\n",
        "\n",
        "# Maintain a high-score leaderboard that stays sorted\n",
        "class Leaderboard:\n",
        "    def __init__(self):\n",
        "        self.scores = []\n",
        "        self.players = []\n",
        "\n",
        "    def add_score(self, player, score):\n",
        "        # Insert maintaining descending order\n",
        "        pos = bisect.bisect_left([-s for s in self.scores], -score)\n",
        "        self.scores.insert(pos, score)\n",
        "        self.players.insert(pos, player)\n",
        "\n",
        "    def top_players(self, n=5):\n",
        "        return list(zip(self.players[:n], self.scores[:n]))\n",
        "\n",
        "# Demo the leaderboard\n",
        "board = Leaderboard()\n",
        "scores = [(\"Alice\", 2850), (\"Bob\", 3100), (\"Carol\", 2650),\n",
        "          (\"David\", 3350), (\"Eva\", 2900)]\n",
        "\n",
        "for player, score in scores:\n",
        "    board.add_score(player, score)\n",
        "\n",
        "print(\"Top 3 players:\", board.top_players(3))\n"
      ],
      "metadata": {
        "colab": {
          "base_uri": "https://localhost:8080/"
        },
        "id": "5SlJoM-LI_q6",
        "outputId": "f538d207-4cd6-44d9-e136-3195803f1b87"
      },
      "execution_count": null,
      "outputs": [
        {
          "output_type": "stream",
          "name": "stdout",
          "text": [
            "Top 3 players: [('David', 3350), ('Bob', 3100), ('Eva', 2900)]\n"
          ]
        }
      ]
    },
    {
      "cell_type": "code",
      "source": [
        "import heapq\n",
        "\n",
        "# Analyze customer satisfaction survey results\n",
        "survey_responses = [\n",
        "    (\"Restaurant A\", 4.8), (\"Restaurant B\", 3.2), (\"Restaurant C\", 4.9),\n",
        "    (\"Restaurant D\", 2.1), (\"Restaurant E\", 4.7), (\"Restaurant F\", 1.8),\n",
        "    (\"Restaurant G\", 4.6), (\"Restaurant H\", 3.8), (\"Restaurant I\", 4.4),\n",
        "    (\"Restaurant J\", 2.9), (\"Restaurant K\", 4.2), (\"Restaurant L\", 3.5)\n",
        "]\n",
        "\n",
        "# Find top performers and underperformers without full sorting\n",
        "top_rated = heapq.nlargest(3, survey_responses, key=lambda x: x[1])\n",
        "worst_rated = heapq.nsmallest(3, survey_responses, key=lambda x: x[1])\n",
        "\n",
        "print(\"Excellence awards:\", [name for name, rating in top_rated])\n",
        "print(\"Needs improvement:\", [name for name, rating in worst_rated])\n",
        "\n",
        "# Calculate performance spread\n",
        "best_score = top_rated[0][1]\n",
        "worst_score = worst_rated[0][1]\n",
        "print(f\"Performance range: {worst_score} to {best_score} ({best_score - worst_score:.1f} point spread)\")\n"
      ],
      "metadata": {
        "colab": {
          "base_uri": "https://localhost:8080/"
        },
        "id": "kxYB_iceJLen",
        "outputId": "e979f9c6-eae0-4544-aa5a-f41f126d91a5"
      },
      "execution_count": null,
      "outputs": [
        {
          "output_type": "stream",
          "name": "stdout",
          "text": [
            "Excellence awards: ['Restaurant C', 'Restaurant A', 'Restaurant E']\n",
            "Needs improvement: ['Restaurant F', 'Restaurant D', 'Restaurant J']\n",
            "Performance range: 1.8 to 4.9 (3.1 point spread)\n"
          ]
        }
      ]
    },
    {
      "cell_type": "code",
      "source": [
        "from operator import itemgetter\n",
        "\n",
        "# Employee performance data: (name, department, performance_score, hire_date)\n",
        "employees = [\n",
        "    (\"Sarah\", \"Engineering\", 94, \"2022-03-15\"),\n",
        "    (\"Mike\", \"Sales\", 87, \"2021-07-22\"),\n",
        "    (\"Jennifer\", \"Engineering\", 91, \"2020-11-08\"),\n",
        "    (\"Carlos\", \"Marketing\", 89, \"2023-01-10\"),\n",
        "    (\"Lisa\", \"Sales\", 92, \"2022-09-03\"),\n",
        "    (\"David\", \"Engineering\", 88, \"2021-12-14\"),\n",
        "    (\"Amanda\", \"Marketing\", 95, \"2020-05-18\")\n",
        "]\n",
        "\n",
        "sorted_employees = sorted(employees, key=itemgetter(1, 2))\n",
        "# For descending performance within department:\n",
        "dept_performance_sorted = sorted(employees, key=lambda x: (x[1], -x[2]))\n",
        "\n",
        "print(\"Department performance rankings:\")\n",
        "current_dept = None\n",
        "for name, dept, score, hire_date in dept_performance_sorted:\n",
        "    if dept != current_dept:\n",
        "        print(f\"\\n{dept} Department:\")\n",
        "        current_dept = dept\n",
        "    print(f\"  {name}: {score}/100\")\n"
      ],
      "metadata": {
        "colab": {
          "base_uri": "https://localhost:8080/"
        },
        "id": "l7piN7hhJjEN",
        "outputId": "f1c9b6c8-a1e8-4b01-d82a-cfd002a894ca"
      },
      "execution_count": null,
      "outputs": [
        {
          "output_type": "stream",
          "name": "stdout",
          "text": [
            "Department performance rankings:\n",
            "\n",
            "Engineering Department:\n",
            "  Sarah: 94/100\n",
            "  Jennifer: 91/100\n",
            "  David: 88/100\n",
            "\n",
            "Marketing Department:\n",
            "  Amanda: 95/100\n",
            "  Carlos: 89/100\n",
            "\n",
            "Sales Department:\n",
            "  Lisa: 92/100\n",
            "  Mike: 87/100\n"
          ]
        }
      ]
    },
    {
      "cell_type": "code",
      "source": [
        "from collections import defaultdict\n",
        "\n",
        "books_data = [\n",
        "    (\"1984\", \"George Orwell\", \"Dystopian Fiction\", 1949),\n",
        "    (\"Dune\", \"Frank Herbert\", \"Science Fiction\", 1965),\n",
        "    (\"Pride and Prejudice\", \"Jane Austen\", \"Romance\", 1813),\n",
        "    (\"The Hobbit\", \"J.R.R. Tolkien\", \"Fantasy\", 1937),\n",
        "    (\"Foundation\", \"Isaac Asimov\", \"Science Fiction\", 1951),\n",
        "    (\"Emma\", \"Jane Austen\", \"Romance\", 1815)\n",
        "]\n",
        "\n",
        "# Create multiple indexes simultaneously\n",
        "catalog = {\n",
        "    'by_author': defaultdict(list),\n",
        "    'by_genre': defaultdict(list),\n",
        "    'by_decade': defaultdict(list)\n",
        "}\n",
        "\n",
        "for title, author, genre, year in books_data:\n",
        "    catalog['by_author'][author].append((title, year))\n",
        "    catalog['by_genre'][genre].append((title, author))\n",
        "    catalog['by_decade'][year // 10 * 10].append((title, author))\n",
        "\n",
        "# Query the catalog\n",
        "print(\"Jane Austen books:\", dict(catalog['by_author'])['Jane Austen'])\n",
        "print(\"Science Fiction titles:\", len(catalog['by_genre']['Science Fiction']))\n",
        "print(\"1960s publications:\", dict(catalog['by_decade']).get(1960, []))\n"
      ],
      "metadata": {
        "colab": {
          "base_uri": "https://localhost:8080/"
        },
        "id": "5REywDwuJtK2",
        "outputId": "896146d1-be8b-4a91-b13a-69d081a7d6ce"
      },
      "execution_count": null,
      "outputs": [
        {
          "output_type": "stream",
          "name": "stdout",
          "text": [
            "Jane Austen books: [('Pride and Prejudice', 1813), ('Emma', 1815)]\n",
            "Science Fiction titles: 2\n",
            "1960s publications: [('Dune', 'Frank Herbert')]\n"
          ]
        }
      ]
    },
    {
      "cell_type": "code",
      "source": [
        "from string import Template\n",
        "\n",
        "report_template = Template(\"\"\"\n",
        "=== SYSTEM PERFORMANCE REPORT ===\n",
        "Generated: $timestamp\n",
        "Server: $server_name\n",
        "\n",
        "CPU Usage: $cpu_usage%\n",
        "Memory Usage: $memory_usage%\n",
        "Disk Space: $disk_usage%\n",
        "\n",
        "Active Connections: $active_connections\n",
        "Error Rate: $error_rate%\n",
        "\n",
        "${detailed_metrics}\n",
        "\n",
        "Status: $overall_status\n",
        "Next Check: $next_check_time\n",
        "\"\"\")\n",
        "\n",
        "# Simulate partial monitoring data (some sensors might be offline)\n",
        "monitoring_data = {\n",
        "    'timestamp': '2024-01-15 14:30:00',\n",
        "    'server_name': 'web-server-01',\n",
        "    'cpu_usage': '23.4',\n",
        "    'memory_usage': '67.8',\n",
        "    # Missing: disk_usage, active_connections, error_rate, detailed_metrics\n",
        "    'overall_status': 'OPERATIONAL',\n",
        "    'next_check_time': '15:30:00'\n",
        "}\n",
        "\n",
        "# Generate report with available data, leaving gaps for missing info\n",
        "report = report_template.safe_substitute(monitoring_data)\n",
        "print(report)\n",
        "# Output shows available data filled in, missing variables left as $placeholders\n",
        "print(\"\\n\" + \"=\"*50)\n",
        "print(\"Missing data can be filled in later:\")\n",
        "additional_data = {'disk_usage': '45.2', 'error_rate': '0.1'}\n",
        "updated_report = Template(report).safe_substitute(additional_data)\n",
        "print(\"Disk usage now shows:\", \"45.2%\" in updated_report)\n"
      ],
      "metadata": {
        "colab": {
          "base_uri": "https://localhost:8080/"
        },
        "id": "iXCsi7oSJ4-M",
        "outputId": "fd0b9c12-571b-4fae-d30d-ee827a835654"
      },
      "execution_count": null,
      "outputs": [
        {
          "output_type": "stream",
          "name": "stdout",
          "text": [
            "\n",
            "=== SYSTEM PERFORMANCE REPORT ===\n",
            "Generated: 2024-01-15 14:30:00\n",
            "Server: web-server-01\n",
            "\n",
            "CPU Usage: 23.4%\n",
            "Memory Usage: 67.8%\n",
            "Disk Space: $disk_usage%\n",
            "\n",
            "Active Connections: $active_connections\n",
            "Error Rate: $error_rate%\n",
            "\n",
            "${detailed_metrics}\n",
            "\n",
            "Status: OPERATIONAL\n",
            "Next Check: 15:30:00\n",
            "\n",
            "\n",
            "==================================================\n",
            "Missing data can be filled in later:\n",
            "Disk usage now shows: True\n"
          ]
        }
      ]
    },
    {
      "cell_type": "code",
      "source": [],
      "metadata": {
        "id": "YkUqRlA8KBWQ"
      },
      "execution_count": null,
      "outputs": []
    }
  ]
}