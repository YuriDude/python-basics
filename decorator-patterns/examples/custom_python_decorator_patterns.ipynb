{
  "nbformat": 4,
  "nbformat_minor": 0,
  "metadata": {
    "colab": {
      "provenance": []
    },
    "kernelspec": {
      "name": "python3",
      "display_name": "Python 3"
    },
    "language_info": {
      "name": "python"
    }
  },
  "cells": [
    {
      "cell_type": "markdown",
      "source": [
        "## Memoization"
      ],
      "metadata": {
        "id": "Gt_wWTf8WCZB"
      }
    },
    {
      "cell_type": "code",
      "execution_count": null,
      "metadata": {
        "id": "xRw3cetzkoxr"
      },
      "outputs": [],
      "source": [
        "def memoize(func):\n",
        "    \"\"\"Caches the return value of a function based on its arguments.\"\"\"\n",
        "    cache = {}\n",
        "\n",
        "    def wrapper(*args, **kwargs):\n",
        "        # Create a key that uniquely identifies the function call\n",
        "        key = str(args) + str(kwargs)\n",
        "\n",
        "        if key not in cache:\n",
        "            cache[key] = func(*args, **kwargs)\n",
        "        return cache[key]\n",
        "\n",
        "    return wrapper\n"
      ]
    },
    {
      "cell_type": "code",
      "source": [
        "@memoize\n",
        "def fibonacci(n):\n",
        "    \"\"\"Calculate the nth Fibonacci number.\"\"\"\n",
        "    if n <= 1:\n",
        "        return n\n",
        "    return fibonacci(n-1) + fibonacci(n-2)\n",
        "\n",
        "# Without memoization, this would be painfully slow\n",
        "result = fibonacci(50)  # Returns almost instantly instead of taking forever\n",
        "print(f\"The 50th Fibonacci number is {result}\")\n"
      ],
      "metadata": {
        "colab": {
          "base_uri": "https://localhost:8080/"
        },
        "id": "CVAY2tlkk859",
        "outputId": "9b5b7132-2989-4461-efd9-8791f1fb2911"
      },
      "execution_count": null,
      "outputs": [
        {
          "output_type": "stream",
          "name": "stdout",
          "text": [
            "The 50th Fibonacci number is 12586269025\n"
          ]
        }
      ]
    },
    {
      "cell_type": "markdown",
      "source": [
        "## Logging"
      ],
      "metadata": {
        "id": "GmCzhpqTWFnk"
      }
    },
    {
      "cell_type": "code",
      "source": [
        "import logging\n",
        "import functools\n",
        "\n",
        "def log_calls(func=None, level=logging.INFO):\n",
        "    \"\"\"Log function calls with arguments and return values.\"\"\"\n",
        "\n",
        "    def decorator(func):\n",
        "        @functools.wraps(func)\n",
        "        def wrapper(*args, **kwargs):\n",
        "            args_str = \", \".join([str(a) for a in args])\n",
        "            kwargs_str = \", \".join([f\"{k}={v}\" for k, v in kwargs.items()])\n",
        "            all_args = f\"{args_str}{', ' if args_str and kwargs_str else ''}{kwargs_str}\"\n",
        "\n",
        "            logging.log(level, f\"Calling {func.__name__}({all_args})\")\n",
        "            result = func(*args, **kwargs)\n",
        "            logging.log(level, f\"{func.__name__} returned {result}\")\n",
        "\n",
        "            return result\n",
        "        return wrapper\n",
        "\n",
        "    # Handle both @log_calls and @log_calls(level=logging.DEBUG)\n",
        "    if func is None:\n",
        "        return decorator\n",
        "    return decorator(func)\n"
      ],
      "metadata": {
        "id": "rOu3XNv1lNMq"
      },
      "execution_count": null,
      "outputs": []
    },
    {
      "cell_type": "code",
      "source": [
        "logging.basicConfig(level=logging.INFO)\n",
        "\n",
        "@log_calls\n",
        "def divide(a, b):\n",
        "    return a / b\n",
        "\n",
        "# This will log the call and the return value\n",
        "result = divide(10, 2)\n",
        "\n",
        "# You can also customize the logging level\n",
        "@log_calls(level=logging.DEBUG)\n",
        "def multiply(a, b):\n",
        "    return a * b\n",
        "\n",
        "result = multiply(5, 4)\n"
      ],
      "metadata": {
        "id": "gtS2M65PlROA"
      },
      "execution_count": null,
      "outputs": []
    },
    {
      "cell_type": "markdown",
      "source": [
        "## Timing Execution"
      ],
      "metadata": {
        "id": "JbL6fSo6WIys"
      }
    },
    {
      "cell_type": "code",
      "source": [
        "import time\n",
        "import functools\n",
        "\n",
        "def timeit(func):\n",
        "    \"\"\"Measure and print the execution time of a function.\"\"\"\n",
        "    @functools.wraps(func)\n",
        "    def wrapper(*args, **kwargs):\n",
        "        start_time = time.time()\n",
        "        result = func(*args, **kwargs)\n",
        "        end_time = time.time()\n",
        "\n",
        "        print(f\"{func.__name__} took {end_time - start_time:.4f} seconds to run\")\n",
        "        return result\n",
        "\n",
        "    return wrapper\n"
      ],
      "metadata": {
        "id": "Dm9uCrGplVS7"
      },
      "execution_count": null,
      "outputs": []
    },
    {
      "cell_type": "code",
      "source": [
        "@timeit\n",
        "def slow_function():\n",
        "    \"\"\"A deliberately slow function for demonstration.\"\"\"\n",
        "    total = 0\n",
        "    for i in range(10000000):\n",
        "        total += i\n",
        "    return total\n",
        "\n",
        "result = slow_function()  # Will print execution time\n"
      ],
      "metadata": {
        "colab": {
          "base_uri": "https://localhost:8080/"
        },
        "id": "9nZjmbNNlY7m",
        "outputId": "f0fff4b9-a5d0-4bf2-9c7f-1d74addd8d33"
      },
      "execution_count": null,
      "outputs": [
        {
          "output_type": "stream",
          "name": "stdout",
          "text": [
            "slow_function took 1.8555 seconds to run\n"
          ]
        }
      ]
    },
    {
      "cell_type": "markdown",
      "source": [
        "## Retry on Failure"
      ],
      "metadata": {
        "id": "yYz9mm1vWS2D"
      }
    },
    {
      "cell_type": "code",
      "source": [
        "def retry(max_attempts=3, delay_seconds=1, backoff_factor=2, exceptions=(Exception,)):\n",
        "    \"\"\"Retry a function if it raises specified exceptions.\"\"\"\n",
        "    def decorator(func):\n",
        "        @functools.wraps(func)\n",
        "        def wrapper(*args, **kwargs):\n",
        "            attempts = 0\n",
        "            current_delay = delay_seconds\n",
        "\n",
        "            while attempts < max_attempts:\n",
        "                try:\n",
        "                    return func(*args, **kwargs)\n",
        "                except exceptions as e:\n",
        "                    attempts += 1\n",
        "                    if attempts == max_attempts:\n",
        "                        logging.error(f\"Failed after {attempts} attempts. Last error: {e}\")\n",
        "                        raise\n",
        "\n",
        "                    logging.warning(\n",
        "                        f\"Attempt {attempts} failed with error: {e}. \"\n",
        "                        f\"Retrying in {current_delay} seconds...\"\n",
        "                    )\n",
        "\n",
        "                    time.sleep(current_delay)\n",
        "                    current_delay *= backoff_factor\n",
        "\n",
        "        return wrapper\n",
        "    return decorator\n"
      ],
      "metadata": {
        "id": "38uNXAY3liXA"
      },
      "execution_count": null,
      "outputs": []
    },
    {
      "cell_type": "code",
      "source": [
        "!pip install requests"
      ],
      "metadata": {
        "colab": {
          "base_uri": "https://localhost:8080/"
        },
        "id": "U7Gw75B-kB3U",
        "outputId": "9c23c30d-83e4-485b-be87-f38d1f135f06"
      },
      "execution_count": null,
      "outputs": [
        {
          "output_type": "stream",
          "name": "stdout",
          "text": [
            "Requirement already satisfied: requests in /usr/local/lib/python3.11/dist-packages (2.32.3)\n",
            "Requirement already satisfied: charset-normalizer<4,>=2 in /usr/local/lib/python3.11/dist-packages (from requests) (3.4.1)\n",
            "Requirement already satisfied: idna<4,>=2.5 in /usr/local/lib/python3.11/dist-packages (from requests) (3.10)\n",
            "Requirement already satisfied: urllib3<3,>=1.21.1 in /usr/local/lib/python3.11/dist-packages (from requests) (2.4.0)\n",
            "Requirement already satisfied: certifi>=2017.4.17 in /usr/local/lib/python3.11/dist-packages (from requests) (2025.4.26)\n"
          ]
        }
      ]
    },
    {
      "cell_type": "code",
      "source": [
        "import random\n",
        "import requests\n",
        "\n",
        "@retry(max_attempts=5, delay_seconds=1, exceptions=(requests.RequestException,))\n",
        "def fetch_data(url):\n",
        "    \"\"\"Fetch data from an API with retry logic.\"\"\"\n",
        "    response = requests.get(url, timeout=2)\n",
        "    response.raise_for_status()  # Raise exception for 4XX/5XX responses\n",
        "    return response.json()\n",
        "\n",
        "# This will retry up to 5 times if the request fails\n",
        "try:\n",
        "    data = fetch_data('https://api.example.com/data')\n",
        "    print(\"Successfully fetched data!\")\n",
        "except Exception as e:\n",
        "    print(f\"All retry attempts failed: {e}\")\n"
      ],
      "metadata": {
        "colab": {
          "base_uri": "https://localhost:8080/"
        },
        "id": "QJpXe0lXlmNk",
        "outputId": "6e57f406-d5de-4ebd-a29b-9667edd0ce52"
      },
      "execution_count": null,
      "outputs": [
        {
          "output_type": "stream",
          "name": "stderr",
          "text": [
            "WARNING:root:Attempt 1 failed with error: HTTPSConnectionPool(host='api.example.com', port=443): Max retries exceeded with url: /data (Caused by NameResolutionError(\"<urllib3.connection.HTTPSConnection object at 0x7adbd42666d0>: Failed to resolve 'api.example.com' ([Errno -2] Name or service not known)\")). Retrying in 1 seconds...\n",
            "WARNING:root:Attempt 2 failed with error: HTTPSConnectionPool(host='api.example.com', port=443): Max retries exceeded with url: /data (Caused by NameResolutionError(\"<urllib3.connection.HTTPSConnection object at 0x7adbd425c6d0>: Failed to resolve 'api.example.com' ([Errno -2] Name or service not known)\")). Retrying in 2 seconds...\n",
            "WARNING:root:Attempt 3 failed with error: HTTPSConnectionPool(host='api.example.com', port=443): Max retries exceeded with url: /data (Caused by NameResolutionError(\"<urllib3.connection.HTTPSConnection object at 0x7adbd425e310>: Failed to resolve 'api.example.com' ([Errno -2] Name or service not known)\")). Retrying in 4 seconds...\n",
            "WARNING:root:Attempt 4 failed with error: HTTPSConnectionPool(host='api.example.com', port=443): Max retries exceeded with url: /data (Caused by NameResolutionError(\"<urllib3.connection.HTTPSConnection object at 0x7adbd425ce50>: Failed to resolve 'api.example.com' ([Errno -2] Name or service not known)\")). Retrying in 8 seconds...\n",
            "ERROR:root:Failed after 5 attempts. Last error: HTTPSConnectionPool(host='api.example.com', port=443): Max retries exceeded with url: /data (Caused by NameResolutionError(\"<urllib3.connection.HTTPSConnection object at 0x7adbd426dad0>: Failed to resolve 'api.example.com' ([Errno -2] Name or service not known)\"))\n"
          ]
        },
        {
          "output_type": "stream",
          "name": "stdout",
          "text": [
            "All retry attempts failed: HTTPSConnectionPool(host='api.example.com', port=443): Max retries exceeded with url: /data (Caused by NameResolutionError(\"<urllib3.connection.HTTPSConnection object at 0x7adbd426dad0>: Failed to resolve 'api.example.com' ([Errno -2] Name or service not known)\"))\n"
          ]
        }
      ]
    },
    {
      "cell_type": "markdown",
      "source": [
        "## Input Validation"
      ],
      "metadata": {
        "id": "NyCIQaFyWWB5"
      }
    },
    {
      "cell_type": "code",
      "source": [
        "def validate_positive_ints(func):\n",
        "    def wrapper(*args):\n",
        "        for arg in args:\n",
        "            if not isinstance(arg, int) or arg <= 0:\n",
        "                raise ValueError(f\"{arg} must be a positive integer\")\n",
        "        return func(*args)\n",
        "    return wrapper\n"
      ],
      "metadata": {
        "id": "p1Q58xvwlq-w"
      },
      "execution_count": null,
      "outputs": []
    },
    {
      "cell_type": "code",
      "source": [
        "@validate_positive_ints\n",
        "def calculate_area(length, width):\n",
        "    return length * width\n",
        "\n",
        "print(calculate_area(5, 10))\n",
        "print(calculate_area(-1, 10))\n"
      ],
      "metadata": {
        "colab": {
          "base_uri": "https://localhost:8080/",
          "height": 315
        },
        "id": "OezNw-NGluJG",
        "outputId": "9dc89090-39cb-4a96-c0d6-67b623801044"
      },
      "execution_count": null,
      "outputs": [
        {
          "output_type": "stream",
          "name": "stdout",
          "text": [
            "50\n"
          ]
        },
        {
          "output_type": "error",
          "ename": "ValueError",
          "evalue": "-1 must be a positive integer",
          "traceback": [
            "\u001b[0;31m---------------------------------------------------------------------------\u001b[0m",
            "\u001b[0;31mValueError\u001b[0m                                Traceback (most recent call last)",
            "\u001b[0;32m<ipython-input-10-39a09fc2690e>\u001b[0m in \u001b[0;36m<cell line: 0>\u001b[0;34m()\u001b[0m\n\u001b[1;32m      4\u001b[0m \u001b[0;34m\u001b[0m\u001b[0m\n\u001b[1;32m      5\u001b[0m \u001b[0mprint\u001b[0m\u001b[0;34m(\u001b[0m\u001b[0mcalculate_area\u001b[0m\u001b[0;34m(\u001b[0m\u001b[0;36m5\u001b[0m\u001b[0;34m,\u001b[0m \u001b[0;36m10\u001b[0m\u001b[0;34m)\u001b[0m\u001b[0;34m)\u001b[0m\u001b[0;34m\u001b[0m\u001b[0;34m\u001b[0m\u001b[0m\n\u001b[0;32m----> 6\u001b[0;31m \u001b[0mprint\u001b[0m\u001b[0;34m(\u001b[0m\u001b[0mcalculate_area\u001b[0m\u001b[0;34m(\u001b[0m\u001b[0;34m-\u001b[0m\u001b[0;36m1\u001b[0m\u001b[0;34m,\u001b[0m \u001b[0;36m10\u001b[0m\u001b[0;34m)\u001b[0m\u001b[0;34m)\u001b[0m\u001b[0;34m\u001b[0m\u001b[0;34m\u001b[0m\u001b[0m\n\u001b[0m",
            "\u001b[0;32m<ipython-input-9-7d765d1f8126>\u001b[0m in \u001b[0;36mwrapper\u001b[0;34m(*args)\u001b[0m\n\u001b[1;32m      3\u001b[0m         \u001b[0;32mfor\u001b[0m \u001b[0marg\u001b[0m \u001b[0;32min\u001b[0m \u001b[0margs\u001b[0m\u001b[0;34m:\u001b[0m\u001b[0;34m\u001b[0m\u001b[0;34m\u001b[0m\u001b[0m\n\u001b[1;32m      4\u001b[0m             \u001b[0;32mif\u001b[0m \u001b[0;32mnot\u001b[0m \u001b[0misinstance\u001b[0m\u001b[0;34m(\u001b[0m\u001b[0marg\u001b[0m\u001b[0;34m,\u001b[0m \u001b[0mint\u001b[0m\u001b[0;34m)\u001b[0m \u001b[0;32mor\u001b[0m \u001b[0marg\u001b[0m \u001b[0;34m<=\u001b[0m \u001b[0;36m0\u001b[0m\u001b[0;34m:\u001b[0m\u001b[0;34m\u001b[0m\u001b[0;34m\u001b[0m\u001b[0m\n\u001b[0;32m----> 5\u001b[0;31m                 \u001b[0;32mraise\u001b[0m \u001b[0mValueError\u001b[0m\u001b[0;34m(\u001b[0m\u001b[0;34mf\"{arg} must be a positive integer\"\u001b[0m\u001b[0;34m)\u001b[0m\u001b[0;34m\u001b[0m\u001b[0;34m\u001b[0m\u001b[0m\n\u001b[0m\u001b[1;32m      6\u001b[0m         \u001b[0;32mreturn\u001b[0m \u001b[0mfunc\u001b[0m\u001b[0;34m(\u001b[0m\u001b[0;34m*\u001b[0m\u001b[0margs\u001b[0m\u001b[0;34m)\u001b[0m\u001b[0;34m\u001b[0m\u001b[0;34m\u001b[0m\u001b[0m\n\u001b[1;32m      7\u001b[0m     \u001b[0;32mreturn\u001b[0m \u001b[0mwrapper\u001b[0m\u001b[0;34m\u001b[0m\u001b[0;34m\u001b[0m\u001b[0m\n",
            "\u001b[0;31mValueError\u001b[0m: -1 must be a positive integer"
          ]
        }
      ]
    }
  ]
}