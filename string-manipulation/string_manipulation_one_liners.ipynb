{
  "nbformat": 4,
  "nbformat_minor": 0,
  "metadata": {
    "colab": {
      "provenance": []
    },
    "kernelspec": {
      "name": "python3",
      "display_name": "Python 3"
    },
    "language_info": {
      "name": "python"
    }
  },
  "cells": [
    {
      "cell_type": "markdown",
      "source": [
        "## Some String Manipulation One-Liners"
      ],
      "metadata": {
        "id": "AOEBN5oM-Zr7"
      }
    },
    {
      "cell_type": "code",
      "execution_count": 47,
      "metadata": {
        "colab": {
          "base_uri": "https://localhost:8080/"
        },
        "id": "Bh5qtzyR97v6",
        "outputId": "83b10efe-0606-4856-fe5b-f1b311f26af8"
      },
      "outputs": [
        {
          "output_type": "stream",
          "name": "stdout",
          "text": [
            "['HELLO', 'WORLD', 'PYTHON', 'ROCKS']\n"
          ]
        }
      ],
      "source": [
        "strings = [\"hello\", \"world\", \"python\", \"rocks\"]\n",
        "uppercase_strings = [s.upper() for s in strings]\n",
        "print(uppercase_strings)"
      ]
    },
    {
      "cell_type": "code",
      "source": [
        "fruits = [\"apple\", \"banana\", \"cherry\", \"apricot\", \"blueberry\"]\n",
        "filtered = [s for s in fruits if \"ap\" in s]\n",
        "print(filtered)"
      ],
      "metadata": {
        "colab": {
          "base_uri": "https://localhost:8080/"
        },
        "id": "hmzEV-q6-cL6",
        "outputId": "e6699f9a-e4ad-492e-d93b-609b49ed24fc"
      },
      "execution_count": 48,
      "outputs": [
        {
          "output_type": "stream",
          "name": "stdout",
          "text": [
            "['apple', 'apricot']\n"
          ]
        }
      ]
    },
    {
      "cell_type": "code",
      "source": [
        "strings = [\"  rust  \", \" python \"]\n",
        "trimmed_strings = [s.strip() for s in strings]\n",
        "print(trimmed_strings)"
      ],
      "metadata": {
        "colab": {
          "base_uri": "https://localhost:8080/"
        },
        "id": "16ycMEXI-hyA",
        "outputId": "61397243-dfc0-4f62-b6aa-40d86f654495"
      },
      "execution_count": 49,
      "outputs": [
        {
          "output_type": "stream",
          "name": "stdout",
          "text": [
            "['rust', 'python']\n"
          ]
        }
      ]
    },
    {
      "cell_type": "code",
      "source": [
        "to_do = [\"code\", \"debug\", \"refactor\"]\n",
        "reversed_strings = [task[::-1] for task in to_do]\n",
        "print(reversed_strings)"
      ],
      "metadata": {
        "colab": {
          "base_uri": "https://localhost:8080/"
        },
        "id": "r_aGvLdK-jsi",
        "outputId": "566d80f9-d27f-43ce-99f2-bd21ef20efe1"
      },
      "execution_count": 50,
      "outputs": [
        {
          "output_type": "stream",
          "name": "stdout",
          "text": [
            "['edoc', 'gubed', 'rotcafer']\n"
          ]
        }
      ]
    },
    {
      "cell_type": "code",
      "source": [
        "strings = [\"code\", \"debug\", \"test\"]\n",
        "prefixed_strings = [f\"py-{s}\" for s in strings]\n",
        "print(prefixed_strings)"
      ],
      "metadata": {
        "colab": {
          "base_uri": "https://localhost:8080/"
        },
        "id": "NcAPKv2S-4D_",
        "outputId": "f782f6fc-bbf1-4933-927f-a406433b13e0"
      },
      "execution_count": 51,
      "outputs": [
        {
          "output_type": "stream",
          "name": "stdout",
          "text": [
            "['py-code', 'py-debug', 'py-test']\n"
          ]
        }
      ]
    },
    {
      "cell_type": "code",
      "source": [
        "strings = [\"learn python\", \"python is fun\"]\n",
        "split_strings = [s.split() for s in strings]\n",
        "print(split_strings)"
      ],
      "metadata": {
        "colab": {
          "base_uri": "https://localhost:8080/"
        },
        "id": "mx2fSMOS-53n",
        "outputId": "3e38f4a7-b081-4f5c-9108-327b270812d3"
      },
      "execution_count": 52,
      "outputs": [
        {
          "output_type": "stream",
          "name": "stdout",
          "text": [
            "[['learn', 'python'], ['python', 'is', 'fun']]\n"
          ]
        }
      ]
    },
    {
      "cell_type": "code",
      "source": [
        "strings = [\"C is cool\", \"I code in C\", \"I like C\"]\n",
        "replaced_strings = [s.replace(\"C\", \"Python\") for s in strings]\n",
        "print(replaced_strings)"
      ],
      "metadata": {
        "colab": {
          "base_uri": "https://localhost:8080/"
        },
        "id": "dAl_Umz3-7eM",
        "outputId": "1ef1bfa0-dd22-4f13-8c6e-dc0a9b8db424"
      },
      "execution_count": 53,
      "outputs": [
        {
          "output_type": "stream",
          "name": "stdout",
          "text": [
            "['Python is cool', 'I code in Python', 'I like Python']\n"
          ]
        }
      ]
    },
    {
      "cell_type": "code",
      "source": [
        "strings = [\"apple\", \"banana\", \"cherry\"]\n",
        "char_counts = [s.count(\"a\") for s in strings]\n",
        "print(char_counts)"
      ],
      "metadata": {
        "colab": {
          "base_uri": "https://localhost:8080/"
        },
        "id": "nTJAGazq-9Mg",
        "outputId": "49b3afb9-c050-4a39-a685-f8c6417c1611"
      },
      "execution_count": 54,
      "outputs": [
        {
          "output_type": "stream",
          "name": "stdout",
          "text": [
            "[1, 3, 0]\n"
          ]
        }
      ]
    },
    {
      "cell_type": "code",
      "source": [
        "strings = [\"Python\", \"is\", \"great\"]\n",
        "sentence = \" \".join(strings)\n",
        "print(sentence)"
      ],
      "metadata": {
        "colab": {
          "base_uri": "https://localhost:8080/"
        },
        "id": "HqhaI68P_FLt",
        "outputId": "b6d084d8-9c75-45d9-ad02-288f50f207e4"
      },
      "execution_count": 55,
      "outputs": [
        {
          "output_type": "stream",
          "name": "stdout",
          "text": [
            "Python is great\n"
          ]
        }
      ]
    },
    {
      "cell_type": "code",
      "source": [
        "strings = [\"python\", \"rocks\"]\n",
        "capitalized_strings = [s.capitalize() for s in strings]\n",
        "print(capitalized_strings)"
      ],
      "metadata": {
        "colab": {
          "base_uri": "https://localhost:8080/"
        },
        "id": "NqRhH8ot_HRh",
        "outputId": "b76cf8fa-d3ea-4761-d0b2-87eb8e319642"
      },
      "execution_count": 56,
      "outputs": [
        {
          "output_type": "stream",
          "name": "stdout",
          "text": [
            "['Python', 'Rocks']\n"
          ]
        }
      ]
    },
    {
      "cell_type": "code",
      "source": [
        "strings = [\"elephant\", \"cat\", \"dinosaur\", \"ant\"]\n",
        "lengths = [len(s) for s in strings]\n",
        "print(lengths)"
      ],
      "metadata": {
        "colab": {
          "base_uri": "https://localhost:8080/"
        },
        "id": "Cb7x4nIp_KMT",
        "outputId": "7610bfc8-02e3-4e97-f7c9-57d1660b70f7"
      },
      "execution_count": 57,
      "outputs": [
        {
          "output_type": "stream",
          "name": "stdout",
          "text": [
            "[8, 3, 8, 3]\n"
          ]
        }
      ]
    },
    {
      "cell_type": "code",
      "source": [
        "strings = [\"hello123\", \"world!\", \"python3.12\", \"rocks\"]\n",
        "is_alphanumeric = [s.isalnum() for s in strings]\n",
        "print(is_alphanumeric)"
      ],
      "metadata": {
        "colab": {
          "base_uri": "https://localhost:8080/"
        },
        "id": "KcpZBqTU_NfD",
        "outputId": "c1f5c9ed-7738-4213-8635-b3dbef77efd6"
      },
      "execution_count": 58,
      "outputs": [
        {
          "output_type": "stream",
          "name": "stdout",
          "text": [
            "[True, False, False, True]\n"
          ]
        }
      ]
    },
    {
      "cell_type": "code",
      "source": [
        "files = [\"main\", \"test\", \"app\"]\n",
        "suffixed_files = [file + \".py\" for file in files]\n",
        "print(suffixed_files)"
      ],
      "metadata": {
        "colab": {
          "base_uri": "https://localhost:8080/"
        },
        "id": "ZI49TDmy_PzV",
        "outputId": "fa2a816b-0ec8-44af-bcb1-c5b1aebcd72d"
      },
      "execution_count": 59,
      "outputs": [
        {
          "output_type": "stream",
          "name": "stdout",
          "text": [
            "['main.py', 'test.py', 'app.py']\n"
          ]
        }
      ]
    },
    {
      "cell_type": "code",
      "source": [
        "strings = [\"banana\", \"cherry\", \"date\", \"blueberry\"]\n",
        "first_letters = [s[0] for s in strings]\n",
        "print(first_letters)"
      ],
      "metadata": {
        "colab": {
          "base_uri": "https://localhost:8080/"
        },
        "id": "r5_gc0NB_Rcr",
        "outputId": "335a163e-2da6-4947-c1d8-a36505fa1bbe"
      },
      "execution_count": 60,
      "outputs": [
        {
          "output_type": "stream",
          "name": "stdout",
          "text": [
            "['b', 'c', 'd', 'b']\n"
          ]
        }
      ]
    },
    {
      "cell_type": "code",
      "source": [
        "strings = [\"Apple\", \"banana\", \"Cherry\", \"date\"]\n",
        "sorted_strings = sorted(strings, key=lambda s: s.lower())\n",
        "print(sorted_strings)"
      ],
      "metadata": {
        "colab": {
          "base_uri": "https://localhost:8080/"
        },
        "id": "ipVhrIYW_THz",
        "outputId": "a639b83b-d471-44ab-fccd-a103e3abac05"
      },
      "execution_count": 61,
      "outputs": [
        {
          "output_type": "stream",
          "name": "stdout",
          "text": [
            "['Apple', 'banana', 'Cherry', 'date']\n"
          ]
        }
      ]
    }
  ]
}