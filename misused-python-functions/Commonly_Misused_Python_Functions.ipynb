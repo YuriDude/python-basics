{
  "nbformat": 4,
  "nbformat_minor": 0,
  "metadata": {
    "colab": {
      "provenance": []
    },
    "kernelspec": {
      "name": "python3",
      "display_name": "Python 3"
    },
    "language_info": {
      "name": "python"
    }
  },
  "cells": [
    {
      "cell_type": "code",
      "execution_count": null,
      "metadata": {
        "colab": {
          "base_uri": "https://localhost:8080/"
        },
        "id": "Hm3CGOgIZCGZ",
        "outputId": "5b3ddfff-c9af-4a0e-9330-76722a7c58d7"
      },
      "outputs": [
        {
          "output_type": "stream",
          "name": "stdout",
          "text": [
            "1. MasterBlaster: 157 pts\n",
            "2. QuickShot: 145 pts\n",
            "3. StealthNinja: 132 pts\n"
          ]
        }
      ],
      "source": [
        "# Bad Usage:\n",
        "def generate_leaderboard(players):\n",
        "    leaderboard = []\n",
        "    for i, player in enumerate(players):\n",
        "        # Manually adding 1 because leaderboards start at 1, not 0\n",
        "        leaderboard.append(f\"{i+1}. {player['name']}: {player['score']} pts\")\n",
        "    return leaderboard\n",
        "\n",
        "top_players = [\n",
        "    {'name': 'MasterBlaster', 'score': 157},\n",
        "    {'name': 'QuickShot', 'score': 145},\n",
        "    {'name': 'StealthNinja', 'score': 132}\n",
        "]\n",
        "print('\\n'.join(generate_leaderboard(top_players)))\n"
      ]
    },
    {
      "cell_type": "code",
      "source": [
        "# Good Usage:\n",
        "def generate_leaderboard(players):\n",
        "    # The start parameter makes our intention crystal clear\n",
        "    leaderboard = []\n",
        "    for rank, player in enumerate(players, start=1):\n",
        "        leaderboard.append(f\"{rank}. {player['name']}: {player['score']} pts\")\n",
        "    return leaderboard\n",
        "print('\\n'.join(generate_leaderboard(top_players)))"
      ],
      "metadata": {
        "colab": {
          "base_uri": "https://localhost:8080/"
        },
        "id": "1hvuksQBZGVy",
        "outputId": "fc324418-e5e5-467a-cf51-73d7d3406202"
      },
      "execution_count": null,
      "outputs": [
        {
          "output_type": "stream",
          "name": "stdout",
          "text": [
            "1. MasterBlaster: 157 pts\n",
            "2. QuickShot: 145 pts\n",
            "3. StealthNinja: 132 pts\n"
          ]
        }
      ]
    },
    {
      "cell_type": "code",
      "source": [
        "# Bad Usage:\n",
        "def organize_inventory(products):\n",
        "    # First sort by quantity (least to most)\n",
        "    by_quantity = sorted(products, key=lambda x: x['quantity'])\n",
        "\n",
        "    # Then sort by category\n",
        "    by_category = sorted(by_quantity, key=lambda x: x['category'])\n",
        "\n",
        "    # Finally sort by priority\n",
        "    final_sorted = sorted(by_category, key=lambda x: x['priority'])\n",
        "\n",
        "    return final_sorted\n",
        "\n",
        "inventory = [\n",
        "    {'name': 'Laptop', 'category': 'Electronics', 'quantity': 5, 'priority': 1},\n",
        "    {'name': 'Headphones', 'category': 'Electronics', 'quantity': 8, 'priority': 2},\n",
        "    {'name': 'Notebook', 'category': 'Office', 'quantity': 15, 'priority': 3},\n",
        "    {'name': 'Pen', 'category': 'Office', 'quantity': 50, 'priority': 3}\n",
        "]\n"
      ],
      "metadata": {
        "id": "92NY51ujZTXP"
      },
      "execution_count": null,
      "outputs": []
    },
    {
      "cell_type": "code",
      "source": [
        "print(organize_inventory(inventory))"
      ],
      "metadata": {
        "colab": {
          "base_uri": "https://localhost:8080/"
        },
        "id": "wiylT-asZfQ6",
        "outputId": "342cef10-9bd1-4bbd-b324-4528b1baaa64"
      },
      "execution_count": null,
      "outputs": [
        {
          "output_type": "stream",
          "name": "stdout",
          "text": [
            "[{'name': 'Laptop', 'category': 'Electronics', 'quantity': 5, 'priority': 1}, {'name': 'Headphones', 'category': 'Electronics', 'quantity': 8, 'priority': 2}, {'name': 'Notebook', 'category': 'Office', 'quantity': 15, 'priority': 3}, {'name': 'Pen', 'category': 'Office', 'quantity': 50, 'priority': 3}]\n"
          ]
        }
      ]
    },
    {
      "cell_type": "code",
      "source": [
        "# Good Usage:\n",
        "def organize_inventory(products):\n",
        "    return sorted(products, key=lambda x: (\n",
        "        x['priority'],      # Sort by priority first\n",
        "        x['category'],      # Then by category\n",
        "        x['quantity']       # Then by quantity\n",
        "    ))\n"
      ],
      "metadata": {
        "id": "Sq8Bld6TZmMj"
      },
      "execution_count": null,
      "outputs": []
    },
    {
      "cell_type": "code",
      "source": [
        "print(organize_inventory(inventory))"
      ],
      "metadata": {
        "colab": {
          "base_uri": "https://localhost:8080/"
        },
        "id": "kGhUYs7lZvqq",
        "outputId": "e3fe51f2-165e-4764-8eb1-d841c0a76413"
      },
      "execution_count": null,
      "outputs": [
        {
          "output_type": "stream",
          "name": "stdout",
          "text": [
            "[{'name': 'Laptop', 'category': 'Electronics', 'quantity': 5, 'priority': 1}, {'name': 'Headphones', 'category': 'Electronics', 'quantity': 8, 'priority': 2}, {'name': 'Notebook', 'category': 'Office', 'quantity': 15, 'priority': 3}, {'name': 'Pen', 'category': 'Office', 'quantity': 50, 'priority': 3}]\n"
          ]
        }
      ]
    },
    {
      "cell_type": "code",
      "source": [
        "# Bad Usage:\n",
        "def process_customer_data(customers):\n",
        "    # Extract all customer email domains\n",
        "    emails = [customer['email'] for customer in customers]\n",
        "    domains = list(map(lambda email: email.split('@')[1], emails))\n",
        "\n",
        "    # Count domains\n",
        "    domain_counts = {}\n",
        "    for domain in domains:\n",
        "        if domain in domain_counts:\n",
        "            domain_counts[domain] += 1\n",
        "        else:\n",
        "            domain_counts[domain] = 1\n",
        "\n",
        "    return domain_counts\n",
        "\n",
        "customers = [\n",
        "    {'name': 'Alice', 'email': 'alice@example.com'},\n",
        "    {'name': 'Bob', 'email': 'bob@gmail.com'},\n",
        "    {'name': 'Charlie', 'email': 'charlie@example.com'}\n",
        "]\n"
      ],
      "metadata": {
        "id": "2z5vcGSJZzAg"
      },
      "execution_count": null,
      "outputs": []
    },
    {
      "cell_type": "code",
      "source": [
        "process_customer_data(customers)"
      ],
      "metadata": {
        "colab": {
          "base_uri": "https://localhost:8080/"
        },
        "id": "GjY01YqKaBcS",
        "outputId": "ed146095-c974-463f-9f57-a60301c2dace"
      },
      "execution_count": null,
      "outputs": [
        {
          "output_type": "execute_result",
          "data": {
            "text/plain": [
              "Counter({'example.com': 2, 'gmail.com': 1})"
            ]
          },
          "metadata": {},
          "execution_count": 10
        }
      ]
    },
    {
      "cell_type": "code",
      "source": [
        "# Good Usage:\n",
        "def process_customer_data(customers):\n",
        "    # Extract domain directly with a function reference\n",
        "    domains = map(lambda c: c['email'].split('@')[1], customers)\n",
        "\n",
        "    # Count domains using a Counter\n",
        "    from collections import Counter\n",
        "    return Counter(domains)  # No need to convert to list first\n"
      ],
      "metadata": {
        "id": "FwiMISQ4Z7Wb"
      },
      "execution_count": null,
      "outputs": []
    },
    {
      "cell_type": "code",
      "source": [
        "process_customer_data(customers)"
      ],
      "metadata": {
        "colab": {
          "base_uri": "https://localhost:8080/"
        },
        "id": "9KyuYJ_TaFYT",
        "outputId": "976521d9-2590-47d4-e003-a79da9b300e5"
      },
      "execution_count": null,
      "outputs": [
        {
          "output_type": "execute_result",
          "data": {
            "text/plain": [
              "Counter({'example.com': 2, 'gmail.com': 1})"
            ]
          },
          "metadata": {},
          "execution_count": 11
        }
      ]
    },
    {
      "cell_type": "code",
      "source": [
        "# Bad Usage:\n",
        "def validate_user_submissions(submissions):\n",
        "    # Check if any submission has been flagged\n",
        "    has_flagged = any([submission['flagged'] for submission in submissions])\n",
        "\n",
        "    # Check if all submissions are complete\n",
        "    all_complete = all([submission['complete'] for submission in submissions])\n",
        "\n",
        "    # Determine status based on checks\n",
        "    if has_flagged:\n",
        "        return \"REVIEW_NEEDED\"\n",
        "    elif all_complete:\n",
        "        return \"COMPLETE\"\n",
        "    else:\n",
        "        return \"IN_PROGRESS\"\n",
        "\n",
        "user_submissions = [\n",
        "    {'id': 1, 'complete': True, 'flagged': False},\n",
        "    {'id': 2, 'complete': True, 'flagged': True},\n",
        "    {'id': 3, 'complete': False, 'flagged': False}\n",
        "]\n"
      ],
      "metadata": {
        "id": "NVpUqqHuaAmX"
      },
      "execution_count": null,
      "outputs": []
    },
    {
      "cell_type": "code",
      "source": [
        "validate_user_submissions(user_submissions)"
      ],
      "metadata": {
        "colab": {
          "base_uri": "https://localhost:8080/",
          "height": 35
        },
        "id": "rR9V_HlzaWyQ",
        "outputId": "e65dc9c9-a211-414a-e4af-0e9d80e2ce77"
      },
      "execution_count": null,
      "outputs": [
        {
          "output_type": "execute_result",
          "data": {
            "text/plain": [
              "'REVIEW_NEEDED'"
            ],
            "application/vnd.google.colaboratory.intrinsic+json": {
              "type": "string"
            }
          },
          "metadata": {},
          "execution_count": 13
        }
      ]
    },
    {
      "cell_type": "code",
      "source": [
        "# Good Usage:\n",
        "def validate_user_submissions(submissions):\n",
        "    # Generator expressions don't create full lists\n",
        "    has_flagged = any(sub['flagged'] for sub in submissions)\n",
        "\n",
        "    # This stops checking as soon as it finds an incomplete submission\n",
        "    all_complete = all(sub['complete'] for sub in submissions)\n",
        "\n",
        "    if has_flagged:\n",
        "        return \"REVIEW_NEEDED\"\n",
        "    elif all_complete:\n",
        "        return \"COMPLETE\"\n",
        "    else:\n",
        "        return \"IN_PROGRESS\"\n"
      ],
      "metadata": {
        "id": "iM4MnzR5aaLV"
      },
      "execution_count": null,
      "outputs": []
    },
    {
      "cell_type": "code",
      "source": [
        "validate_user_submissions(user_submissions)"
      ],
      "metadata": {
        "colab": {
          "base_uri": "https://localhost:8080/",
          "height": 35
        },
        "id": "lMse1b37ag4t",
        "outputId": "f31a9155-5464-4f8e-e0e8-66a010e690d6"
      },
      "execution_count": null,
      "outputs": [
        {
          "output_type": "execute_result",
          "data": {
            "text/plain": [
              "'REVIEW_NEEDED'"
            ],
            "application/vnd.google.colaboratory.intrinsic+json": {
              "type": "string"
            }
          },
          "metadata": {},
          "execution_count": 15
        }
      ]
    },
    {
      "cell_type": "code",
      "source": [
        "# Bad Usage:\n",
        "def assign_mentors(students, mentors):\n",
        "    # Pair students with mentors\n",
        "    assignments = []\n",
        "    for student, mentor in zip(students, mentors):\n",
        "        assignments.append(f\"{student} will be mentored by {mentor}\")\n",
        "\n",
        "    return assignments\n",
        "\n",
        "students = ['Alice', 'Bob', 'Charlie', 'Diana']\n",
        "mentors = ['Dr. Smith', 'Prof. Jones']  # Only two mentors available\n",
        "\n",
        "# This silently drops Charlie and Diana :(\n",
        "print('\\n'.join(assign_mentors(students, mentors)))\n"
      ],
      "metadata": {
        "colab": {
          "base_uri": "https://localhost:8080/"
        },
        "id": "Gnmp8Wr0ai7a",
        "outputId": "28576a5b-0be6-4260-975f-7e9027c9d31a"
      },
      "execution_count": null,
      "outputs": [
        {
          "output_type": "stream",
          "name": "stdout",
          "text": [
            "Alice will be mentored by Dr. Smith\n",
            "Bob will be mentored by Prof. Jones\n"
          ]
        }
      ]
    },
    {
      "cell_type": "code",
      "source": [
        "# Good Usage:\n",
        "from itertools import zip_longest\n",
        "\n",
        "def assign_mentors(students, mentors):\n",
        "    # Use zip_longest\n",
        "    assignments = []\n",
        "    for student, mentor in zip_longest(students, mentors, fillvalue=\"MENTOR NEEDED\"):\n",
        "        assignments.append(f\"{student} will be mentored by {mentor}\")\n",
        "\n",
        "    return assignments\n"
      ],
      "metadata": {
        "id": "-XsVqkFgapuG"
      },
      "execution_count": null,
      "outputs": []
    },
    {
      "cell_type": "code",
      "source": [
        "# This silently drops Charlie and Diana :(\n",
        "print('\\n'.join(assign_mentors(students, mentors)))"
      ],
      "metadata": {
        "colab": {
          "base_uri": "https://localhost:8080/"
        },
        "id": "5v6Vd5HOa3CB",
        "outputId": "08f74201-3cb0-4e51-d1ba-278910ab06cd"
      },
      "execution_count": null,
      "outputs": [
        {
          "output_type": "stream",
          "name": "stdout",
          "text": [
            "Alice will be mentored by Dr. Smith\n",
            "Bob will be mentored by Prof. Jones\n",
            "Charlie will be mentored by MENTOR NEEDED\n",
            "Diana will be mentored by MENTOR NEEDED\n"
          ]
        }
      ]
    },
    {
      "cell_type": "code",
      "source": [
        "# Bad Usage:\n",
        "def process_user_preferences(user_profile):\n",
        "    # Verbose handling of optional values\n",
        "    if 'theme' in user_profile:\n",
        "        theme = user_profile['theme']\n",
        "    else:\n",
        "        theme = 'default'\n",
        "\n",
        "    # Or the equally problematic:\n",
        "    notifications = user_profile.get('notifications')\n",
        "    if notifications is None:\n",
        "        notifications = {'email': True, 'sms': False}\n",
        "\n",
        "    # Process preferences\n",
        "    return {\n",
        "        'theme_css': f\"themes/{theme}.css\",\n",
        "        'notification_settings': notifications\n",
        "    }\n",
        "\n",
        "user = {\n",
        "    'name': 'Alex',\n",
        "    'email': 'alex@example.com'\n",
        "    # Missing theme and notifications\n",
        "}\n"
      ],
      "metadata": {
        "id": "9bdOZcy7a7IY"
      },
      "execution_count": null,
      "outputs": []
    },
    {
      "cell_type": "code",
      "source": [
        "# Good Usage:\n",
        "def process_user_preferences(user_profile):\n",
        "    # Clean, one-line default values\n",
        "    theme = user_profile.get('theme', 'default')\n",
        "\n",
        "    notifications = user_profile.get('notifications', {'email': True, 'sms': False})\n",
        "\n",
        "    return {\n",
        "        'theme_css': f\"themes/{theme}.css\",\n",
        "        'notification_settings': notifications\n",
        "    }\n"
      ],
      "metadata": {
        "id": "rs9JRen0bCw3"
      },
      "execution_count": null,
      "outputs": []
    },
    {
      "cell_type": "code",
      "source": [
        "# Bad Usage:\n",
        "from functools import lru_cache\n",
        "\n",
        "@lru_cache\n",
        "def get_user_permissions(user_id):\n",
        "    \"\"\"Fetch user permissions from database\"\"\"\n",
        "    print(f\"DB Query for user {user_id}\")  # Side effect to show cache misses\n",
        "    # Simulate expensive database query\n",
        "    import time\n",
        "    time.sleep(0.1)\n",
        "    return ['read', 'write'] if user_id % 2 == 0 else ['read']\n",
        "\n",
        "def check_permission(user_id, permission):\n",
        "    permissions = get_user_permissions(user_id)\n",
        "    return permission in permissions\n"
      ],
      "metadata": {
        "id": "LaLybdg1bKf_"
      },
      "execution_count": null,
      "outputs": []
    },
    {
      "cell_type": "code",
      "source": [
        "# Good Usage:\n",
        "@lru_cache(maxsize=1024, typed=True)\n",
        "def get_user_permissions(user_id):\n",
        "    \"\"\"Fetch user permissions from database\"\"\"\n",
        "    print(f\"DB Query for user {user_id}\")\n",
        "    # Simulate expensive database query\n",
        "    import time\n",
        "    time.sleep(0.1)\n",
        "    return ('read', 'write') if user_id % 2 == 0 else ('read',)  # Tuple is immutable\n"
      ],
      "metadata": {
        "id": "n7LirmUtbRQx"
      },
      "execution_count": null,
      "outputs": []
    },
    {
      "cell_type": "code",
      "source": [
        "def check_permission(user_id, permission):\n",
        "    permissions = get_user_permissions(user_id)\n",
        "    return permission in permissions"
      ],
      "metadata": {
        "id": "26WcgEaAbXkC"
      },
      "execution_count": null,
      "outputs": []
    },
    {
      "cell_type": "code",
      "source": [],
      "metadata": {
        "id": "7gSI0iLnbajy"
      },
      "execution_count": null,
      "outputs": []
    }
  ]
}