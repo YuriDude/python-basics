{
  "nbformat": 4,
  "nbformat_minor": 0,
  "metadata": {
    "colab": {
      "provenance": []
    },
    "kernelspec": {
      "name": "python3",
      "display_name": "Python 3"
    },
    "language_info": {
      "name": "python"
    }
  },
  "cells": [
    {
      "cell_type": "code",
      "execution_count": null,
      "metadata": {
        "id": "L8DvOXwIUdW6"
      },
      "outputs": [],
      "source": [
        "import json\n",
        "from collections import defaultdict, Counter\n",
        "\n",
        "# Sample product catalog\n",
        "products = [\n",
        "    {\"id\": 1, \"name\": \"Laptop\", \"price\": 999.99, \"category\": \"Electronics\", \"stock\": 25, \"rating\": 4.5},\n",
        "    {\"id\": 2, \"name\": \"Coffee Maker\", \"price\": 79.99, \"category\": \"Appliances\", \"stock\": 15, \"rating\": 4.2},\n",
        "    {\"id\": 3, \"name\": \"Smartphone\", \"price\": 699.99, \"category\": \"Electronics\", \"stock\": 50, \"rating\": 4.7},\n",
        "    {\"id\": 4, \"name\": \"Desk Chair\", \"price\": 159.99, \"category\": \"Furniture\", \"stock\": 8, \"rating\": 4.1},\n",
        "    {\"id\": 5, \"name\": \"Headphones\", \"price\": 199.99, \"category\": \"Electronics\", \"stock\": 30, \"rating\": 4.6}\n",
        "]\n",
        "\n",
        "# Sample employee data\n",
        "employees = [\n",
        "    {\"name\": \"Alice Johnson\", \"department\": \"Engineering\", \"salary\": 95000, \"projects\": [\"API\", \"Database\"]},\n",
        "    {\"name\": \"Bob Smith\", \"department\": \"Marketing\", \"salary\": 65000, \"projects\": [\"Campaign\", \"Analytics\"]},\n",
        "    {\"name\": \"Carol Davis\", \"department\": \"Engineering\", \"salary\": 105000, \"projects\": [\"Frontend\", \"Testing\"]},\n",
        "    {\"name\": \"David Wilson\", \"department\": \"Sales\", \"salary\": 75000, \"projects\": [\"Outreach\", \"CRM\"]}\n",
        "]\n",
        "\n",
        "# Sample nested API response\n",
        "api_response = {\n",
        "    \"status\": \"success\",\n",
        "    \"data\": {\n",
        "        \"orders\": [\n",
        "            {\"id\": \"ORD001\", \"customer\": {\"name\": \"John Doe\", \"email\": \"john@example.com\"}, \"items\": [{\"product\": \"Laptop\", \"quantity\": 1}]},\n",
        "            {\"id\": \"ORD002\", \"customer\": {\"name\": \"Jane Smith\", \"email\": \"jane@example.com\"}, \"items\": [{\"product\": \"Mouse\", \"quantity\": 2}]}\n",
        "        ],\n",
        "        \"total_orders\": 2\n",
        "    }\n",
        "}\n"
      ]
    },
    {
      "cell_type": "code",
      "source": [
        "product_names = [item['name'] for item in products]\n",
        "product_names"
      ],
      "metadata": {
        "colab": {
          "base_uri": "https://localhost:8080/"
        },
        "id": "7MK3boUtU_LD",
        "outputId": "3c39dc72-6af2-4793-94da-85a35325451d"
      },
      "execution_count": null,
      "outputs": [
        {
          "output_type": "execute_result",
          "data": {
            "text/plain": [
              "['Laptop', 'Coffee Maker', 'Smartphone', 'Desk Chair', 'Headphones']"
            ]
          },
          "metadata": {},
          "execution_count": 2
        }
      ]
    },
    {
      "cell_type": "code",
      "source": [
        "expensive_products = [item for item in products if item['price'] > 150]\n",
        "expensive_products"
      ],
      "metadata": {
        "colab": {
          "base_uri": "https://localhost:8080/"
        },
        "id": "LktSSvZ2VIWT",
        "outputId": "8c892e75-8831-40a2-b514-e50dfec9b749"
      },
      "execution_count": null,
      "outputs": [
        {
          "output_type": "execute_result",
          "data": {
            "text/plain": [
              "[{'id': 1,\n",
              "  'name': 'Laptop',\n",
              "  'price': 999.99,\n",
              "  'category': 'Electronics',\n",
              "  'stock': 25,\n",
              "  'rating': 4.5},\n",
              " {'id': 3,\n",
              "  'name': 'Smartphone',\n",
              "  'price': 699.99,\n",
              "  'category': 'Electronics',\n",
              "  'stock': 50,\n",
              "  'rating': 4.7},\n",
              " {'id': 4,\n",
              "  'name': 'Desk Chair',\n",
              "  'price': 159.99,\n",
              "  'category': 'Furniture',\n",
              "  'stock': 8,\n",
              "  'rating': 4.1},\n",
              " {'id': 5,\n",
              "  'name': 'Headphones',\n",
              "  'price': 199.99,\n",
              "  'category': 'Electronics',\n",
              "  'stock': 30,\n",
              "  'rating': 4.6}]"
            ]
          },
          "metadata": {},
          "execution_count": 3
        }
      ]
    },
    {
      "cell_type": "code",
      "source": [
        "products_by_category = {k: [item for item in products if item['category'] == k] for k in set(item['category'] for item in products)}\n",
        "products_by_category"
      ],
      "metadata": {
        "colab": {
          "base_uri": "https://localhost:8080/"
        },
        "id": "vj6xXquuVK_J",
        "outputId": "be711202-0c54-4a09-fb03-54b92c078533"
      },
      "execution_count": null,
      "outputs": [
        {
          "output_type": "execute_result",
          "data": {
            "text/plain": [
              "{'Electronics': [{'id': 1,\n",
              "   'name': 'Laptop',\n",
              "   'price': 999.99,\n",
              "   'category': 'Electronics',\n",
              "   'stock': 25,\n",
              "   'rating': 4.5},\n",
              "  {'id': 3,\n",
              "   'name': 'Smartphone',\n",
              "   'price': 699.99,\n",
              "   'category': 'Electronics',\n",
              "   'stock': 50,\n",
              "   'rating': 4.7},\n",
              "  {'id': 5,\n",
              "   'name': 'Headphones',\n",
              "   'price': 199.99,\n",
              "   'category': 'Electronics',\n",
              "   'stock': 30,\n",
              "   'rating': 4.6}],\n",
              " 'Appliances': [{'id': 2,\n",
              "   'name': 'Coffee Maker',\n",
              "   'price': 79.99,\n",
              "   'category': 'Appliances',\n",
              "   'stock': 15,\n",
              "   'rating': 4.2}],\n",
              " 'Furniture': [{'id': 4,\n",
              "   'name': 'Desk Chair',\n",
              "   'price': 159.99,\n",
              "   'category': 'Furniture',\n",
              "   'stock': 8,\n",
              "   'rating': 4.1}]}"
            ]
          },
          "metadata": {},
          "execution_count": 4
        }
      ]
    },
    {
      "cell_type": "code",
      "source": [
        "price_stats = {'min': min(item['price'] for item in products), 'max': max(item['price'] for item in products), 'avg': sum(item['price'] for item in products) / len(products)}\n",
        "price_stats"
      ],
      "metadata": {
        "colab": {
          "base_uri": "https://localhost:8080/"
        },
        "id": "HxyL1W80VOBO",
        "outputId": "680526c2-e69d-46f5-b8fc-120d11df66cf"
      },
      "execution_count": null,
      "outputs": [
        {
          "output_type": "execute_result",
          "data": {
            "text/plain": [
              "{'min': 79.99, 'max': 999.99, 'avg': 427.98999999999995}"
            ]
          },
          "metadata": {},
          "execution_count": 5
        }
      ]
    },
    {
      "cell_type": "code",
      "source": [
        "simplified_products = [{'title': item['name'], 'cost': item['price'], 'available': item['stock'] > 0} for item in products]\n",
        "simplified_products"
      ],
      "metadata": {
        "colab": {
          "base_uri": "https://localhost:8080/"
        },
        "id": "BG-ch-O3VR7P",
        "outputId": "910e17a9-1fba-4c8f-d1f3-e9a8c164a913"
      },
      "execution_count": null,
      "outputs": [
        {
          "output_type": "execute_result",
          "data": {
            "text/plain": [
              "[{'title': 'Laptop', 'cost': 999.99, 'available': True},\n",
              " {'title': 'Coffee Maker', 'cost': 79.99, 'available': True},\n",
              " {'title': 'Smartphone', 'cost': 699.99, 'available': True},\n",
              " {'title': 'Desk Chair', 'cost': 159.99, 'available': True},\n",
              " {'title': 'Headphones', 'cost': 199.99, 'available': True}]"
            ]
          },
          "metadata": {},
          "execution_count": 6
        }
      ]
    },
    {
      "cell_type": "code",
      "source": [
        "customer_emails = [order.get('customer', {}).get('email', 'N/A') for order in api_response['data']['orders']]\n",
        "customer_emails"
      ],
      "metadata": {
        "colab": {
          "base_uri": "https://localhost:8080/"
        },
        "id": "7ngJ-3Y6VXg8",
        "outputId": "e527d421-310f-4ff1-9283-2af760f53076"
      },
      "execution_count": null,
      "outputs": [
        {
          "output_type": "execute_result",
          "data": {
            "text/plain": [
              "['john@example.com', 'jane@example.com']"
            ]
          },
          "metadata": {},
          "execution_count": 7
        }
      ]
    },
    {
      "cell_type": "code",
      "source": [
        "category_counts = Counter(item['category'] for item in products)\n",
        "category_counts"
      ],
      "metadata": {
        "colab": {
          "base_uri": "https://localhost:8080/"
        },
        "id": "-TVkPh7rVaqU",
        "outputId": "d9761fe6-4154-4e0b-a51a-c611060a8a39"
      },
      "execution_count": null,
      "outputs": [
        {
          "output_type": "execute_result",
          "data": {
            "text/plain": [
              "Counter({'Electronics': 3, 'Appliances': 1, 'Furniture': 1})"
            ]
          },
          "metadata": {},
          "execution_count": 8
        }
      ]
    },
    {
      "cell_type": "code",
      "source": [
        "enhanced_products = [{**product, 'total_value': product['price'] * product['stock']} for product in products]\n",
        "enhanced_products"
      ],
      "metadata": {
        "colab": {
          "base_uri": "https://localhost:8080/"
        },
        "id": "XXSAn2R_VeJC",
        "outputId": "6a24a49f-bbf5-4e10-ba96-897c86058313"
      },
      "execution_count": null,
      "outputs": [
        {
          "output_type": "execute_result",
          "data": {
            "text/plain": [
              "[{'id': 1,\n",
              "  'name': 'Laptop',\n",
              "  'price': 999.99,\n",
              "  'category': 'Electronics',\n",
              "  'stock': 25,\n",
              "  'rating': 4.5,\n",
              "  'total_value': 24999.75},\n",
              " {'id': 2,\n",
              "  'name': 'Coffee Maker',\n",
              "  'price': 79.99,\n",
              "  'category': 'Appliances',\n",
              "  'stock': 15,\n",
              "  'rating': 4.2,\n",
              "  'total_value': 1199.85},\n",
              " {'id': 3,\n",
              "  'name': 'Smartphone',\n",
              "  'price': 699.99,\n",
              "  'category': 'Electronics',\n",
              "  'stock': 50,\n",
              "  'rating': 4.7,\n",
              "  'total_value': 34999.5},\n",
              " {'id': 4,\n",
              "  'name': 'Desk Chair',\n",
              "  'price': 159.99,\n",
              "  'category': 'Furniture',\n",
              "  'stock': 8,\n",
              "  'rating': 4.1,\n",
              "  'total_value': 1279.92},\n",
              " {'id': 5,\n",
              "  'name': 'Headphones',\n",
              "  'price': 199.99,\n",
              "  'category': 'Electronics',\n",
              "  'stock': 30,\n",
              "  'rating': 4.6,\n",
              "  'total_value': 5999.700000000001}]"
            ]
          },
          "metadata": {},
          "execution_count": 9
        }
      ]
    },
    {
      "cell_type": "code",
      "source": [
        "highest_rated = max(products, key=lambda x: x['rating'])\n",
        "highest_rated"
      ],
      "metadata": {
        "colab": {
          "base_uri": "https://localhost:8080/"
        },
        "id": "IkhRdODQVjoA",
        "outputId": "c7a29885-2ada-45bc-b849-026c1fe69247"
      },
      "execution_count": null,
      "outputs": [
        {
          "output_type": "execute_result",
          "data": {
            "text/plain": [
              "{'id': 3,\n",
              " 'name': 'Smartphone',\n",
              " 'price': 699.99,\n",
              " 'category': 'Electronics',\n",
              " 'stock': 50,\n",
              " 'rating': 4.7}"
            ]
          },
          "metadata": {},
          "execution_count": 10
        }
      ]
    },
    {
      "cell_type": "code",
      "source": [
        "projects_list = [project for employee in employees for project in employee['projects']]\n",
        "projects_list"
      ],
      "metadata": {
        "colab": {
          "base_uri": "https://localhost:8080/"
        },
        "id": "RGB-hKssVkXp",
        "outputId": "838fc50d-5ea2-4096-b262-9fde521ae6d7"
      },
      "execution_count": null,
      "outputs": [
        {
          "output_type": "execute_result",
          "data": {
            "text/plain": [
              "['API',\n",
              " 'Database',\n",
              " 'Campaign',\n",
              " 'Analytics',\n",
              " 'Frontend',\n",
              " 'Testing',\n",
              " 'Outreach',\n",
              " 'CRM']"
            ]
          },
          "metadata": {},
          "execution_count": 11
        }
      ]
    }
  ]
}