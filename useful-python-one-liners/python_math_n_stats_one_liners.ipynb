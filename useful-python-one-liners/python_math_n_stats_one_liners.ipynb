{
  "nbformat": 4,
  "nbformat_minor": 0,
  "metadata": {
    "colab": {
      "provenance": []
    },
    "kernelspec": {
      "name": "python3",
      "display_name": "Python 3"
    },
    "language_info": {
      "name": "python"
    }
  },
  "cells": [
    {
      "cell_type": "code",
      "execution_count": 1,
      "metadata": {
        "id": "fJkM6_cEkSVw"
      },
      "outputs": [],
      "source": [
        "import numpy as np\n",
        "import pandas as pd\n",
        "from collections import Counter\n",
        "import statistics\n",
        "\n",
        "# Sample datasets\n",
        "numbers = [12, 45, 7, 23, 56, 89, 34, 67, 21, 78, 43, 65, 32, 54, 76]\n",
        "grades = [78, 79, 82, 84, 85, 86, 87, 88, 89, 90, 91, 92, 93, 94, 96]\n",
        "sales_data = [1200, 1500, 800, 2100, 1800, 950, 1600, 2200, 1400, 1750,3400]\n",
        "temperatures = [55.2, 62.1, 58.3, 64.7, 60.0, 61.8, 59.4, 63.5, 57.9, 56.6]\n"
      ]
    },
    {
      "cell_type": "code",
      "source": [
        "stats = (statistics.mean(grades), statistics.median(grades), statistics.mode(grades))\n",
        "stats"
      ],
      "metadata": {
        "colab": {
          "base_uri": "https://localhost:8080/"
        },
        "id": "dHN43_cXkU73",
        "outputId": "8b410077-235a-4f35-c591-66025408967f"
      },
      "execution_count": 2,
      "outputs": [
        {
          "output_type": "execute_result",
          "data": {
            "text/plain": [
              "(87.6, 88, 78)"
            ]
          },
          "metadata": {},
          "execution_count": 2
        }
      ]
    },
    {
      "cell_type": "code",
      "source": [
        "outliers = [x for x in sales_data if x < np.percentile(sales_data, 25) - 1.5 * (np.percentile(sales_data, 75) - np.percentile(sales_data, 25)) or x > np.percentile(sales_data, 75) + 1.5 * (np.percentile(sales_data, 75) - np.percentile(sales_data, 25))]\n",
        "outliers"
      ],
      "metadata": {
        "colab": {
          "base_uri": "https://localhost:8080/"
        },
        "id": "JqjAjU2NknOm",
        "outputId": "080d769d-a241-42b6-a89f-22005051ee68"
      },
      "execution_count": 3,
      "outputs": [
        {
          "output_type": "execute_result",
          "data": {
            "text/plain": [
              "[3400]"
            ]
          },
          "metadata": {},
          "execution_count": 3
        }
      ]
    },
    {
      "cell_type": "code",
      "source": [
        "correlation = np.corrcoef(temperatures, grades[:len(temperatures)])[0, 1]\n",
        "correlation"
      ],
      "metadata": {
        "colab": {
          "base_uri": "https://localhost:8080/"
        },
        "id": "B2nXtnCgksLr",
        "outputId": "2d85de9c-76d0-4fb6-f2d3-12f764412150"
      },
      "execution_count": 4,
      "outputs": [
        {
          "output_type": "execute_result",
          "data": {
            "text/plain": [
              "np.float64(0.062360807968294615)"
            ]
          },
          "metadata": {},
          "execution_count": 4
        }
      ]
    },
    {
      "cell_type": "code",
      "source": [
        "summary = {stat: getattr(np, stat)(numbers) for stat in ['mean', 'std', 'min', 'max', 'var']}\n",
        "summary"
      ],
      "metadata": {
        "colab": {
          "base_uri": "https://localhost:8080/"
        },
        "id": "XmvKmrj2k2D7",
        "outputId": "4a5ef2f4-1391-499f-c6f7-617b494e0f76"
      },
      "execution_count": 5,
      "outputs": [
        {
          "output_type": "execute_result",
          "data": {
            "text/plain": [
              "{'mean': np.float64(46.8),\n",
              " 'std': np.float64(24.372662281061267),\n",
              " 'min': np.int64(7),\n",
              " 'max': np.int64(89),\n",
              " 'var': np.float64(594.0266666666666)}"
            ]
          },
          "metadata": {},
          "execution_count": 5
        }
      ]
    },
    {
      "cell_type": "code",
      "source": [
        "z_scores = [(x - np.mean(numbers)) / np.std(numbers) for x in numbers]\n",
        "z_scores"
      ],
      "metadata": {
        "colab": {
          "base_uri": "https://localhost:8080/"
        },
        "id": "LYz2fV0dk7Gm",
        "outputId": "36a5c277-b173-4d14-9df0-632b8194e322"
      },
      "execution_count": 6,
      "outputs": [
        {
          "output_type": "execute_result",
          "data": {
            "text/plain": [
              "[np.float64(-1.4278292456807755),\n",
              " np.float64(-0.07385323684555724),\n",
              " np.float64(-1.6329771258073238),\n",
              " np.float64(-0.9765039094023694),\n",
              " np.float64(0.3774720994328488),\n",
              " np.float64(1.731448108268067),\n",
              " np.float64(-0.5251785731239633),\n",
              " np.float64(0.828797435711255),\n",
              " np.float64(-1.0585630614529886),\n",
              " np.float64(1.280122771989661),\n",
              " np.float64(-0.15591238889617653),\n",
              " np.float64(0.7467382836606357),\n",
              " np.float64(-0.6072377251745826),\n",
              " np.float64(0.29541294738222956),\n",
              " np.float64(1.1980636199390418)]"
            ]
          },
          "metadata": {},
          "execution_count": 6
        }
      ]
    },
    {
      "cell_type": "code",
      "source": [
        "moving_avg = [np.mean(sales_data[i:i+3]) for i in range(len(sales_data)-2)]\n",
        "moving_avg"
      ],
      "metadata": {
        "colab": {
          "base_uri": "https://localhost:8080/"
        },
        "id": "PY6xSRBSk_6V",
        "outputId": "ccc79e7f-2bc5-41ee-ba26-7a4211a34356"
      },
      "execution_count": 7,
      "outputs": [
        {
          "output_type": "execute_result",
          "data": {
            "text/plain": [
              "[np.float64(1166.6666666666667),\n",
              " np.float64(1466.6666666666667),\n",
              " np.float64(1566.6666666666667),\n",
              " np.float64(1616.6666666666667),\n",
              " np.float64(1450.0),\n",
              " np.float64(1583.3333333333333),\n",
              " np.float64(1733.3333333333333),\n",
              " np.float64(1783.3333333333333),\n",
              " np.float64(2183.3333333333335)]"
            ]
          },
          "metadata": {},
          "execution_count": 7
        }
      ]
    },
    {
      "cell_type": "code",
      "source": [
        "most_frequent_range = Counter([int(x//10)*10 for x in numbers]).most_common(1)[0]\n",
        "most_frequent_range"
      ],
      "metadata": {
        "colab": {
          "base_uri": "https://localhost:8080/"
        },
        "id": "XFJnZRyT7s3l",
        "outputId": "01886e91-45a0-4313-de93-51d0e018786e"
      },
      "execution_count": 8,
      "outputs": [
        {
          "output_type": "execute_result",
          "data": {
            "text/plain": [
              "(40, 2)"
            ]
          },
          "metadata": {},
          "execution_count": 8
        }
      ]
    },
    {
      "cell_type": "code",
      "source": [
        "cagr = (sales_data[-1] / sales_data[0]) ** (1 / (len(sales_data) - 1)) - 1\n",
        "cagr"
      ],
      "metadata": {
        "colab": {
          "base_uri": "https://localhost:8080/"
        },
        "id": "3ThlaXUA7uky",
        "outputId": "2da264a8-d17d-4fa6-ab39-38e330434e69"
      },
      "execution_count": 9,
      "outputs": [
        {
          "output_type": "execute_result",
          "data": {
            "text/plain": [
              "0.10976178866032371"
            ]
          },
          "metadata": {},
          "execution_count": 9
        }
      ]
    },
    {
      "cell_type": "code",
      "source": [
        "running_totals = [sum(sales_data[:i+1]) for i in range(len(sales_data))]\n",
        "running_totals"
      ],
      "metadata": {
        "colab": {
          "base_uri": "https://localhost:8080/"
        },
        "id": "3MseralT78RR",
        "outputId": "866fd4b0-2546-431f-c14d-f002776f397d"
      },
      "execution_count": 10,
      "outputs": [
        {
          "output_type": "execute_result",
          "data": {
            "text/plain": [
              "[1200, 2700, 3500, 5600, 7400, 8350, 9950, 12150, 13550, 15300, 18700]"
            ]
          },
          "metadata": {},
          "execution_count": 10
        }
      ]
    },
    {
      "cell_type": "code",
      "source": [
        "cv = (np.std(temperatures) / np.mean(temperatures)) * 100\n",
        "cv"
      ],
      "metadata": {
        "colab": {
          "base_uri": "https://localhost:8080/"
        },
        "id": "MGL0q6dT8EyO",
        "outputId": "5aa6ff27-c818-4d20-ebc8-64071f17aa2c"
      },
      "execution_count": 11,
      "outputs": [
        {
          "output_type": "execute_result",
          "data": {
            "text/plain": [
              "np.float64(4.840958085381635)"
            ]
          },
          "metadata": {},
          "execution_count": 11
        }
      ]
    }
  ]
}