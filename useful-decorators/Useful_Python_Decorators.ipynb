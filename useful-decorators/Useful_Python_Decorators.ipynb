{
  "nbformat": 4,
  "nbformat_minor": 0,
  "metadata": {
    "colab": {
      "provenance": []
    },
    "kernelspec": {
      "name": "python3",
      "display_name": "Python 3"
    },
    "language_info": {
      "name": "python"
    }
  },
  "cells": [
    {
      "cell_type": "markdown",
      "source": [
        "## @property"
      ],
      "metadata": {
        "id": "UWZI53Ga7OYY"
      }
    },
    {
      "cell_type": "code",
      "execution_count": null,
      "metadata": {
        "id": "A4nVdxHmmOpA"
      },
      "outputs": [],
      "source": [
        "class Temperature:\n",
        "    def __init__(self, celsius=0):\n",
        "        self._celsius = celsius\n",
        "\n",
        "    @property\n",
        "    def celsius(self):\n",
        "        return self._celsius\n",
        "\n",
        "    @celsius.setter\n",
        "    def celsius(self, value):\n",
        "        if value < -273.15:\n",
        "            raise ValueError(\"Temperature below absolute zero!\")\n",
        "        self._celsius = value\n",
        "\n",
        "    @property\n",
        "    def fahrenheit(self):\n",
        "        return self._celsius * 9/5 + 32\n",
        "\n",
        "    @fahrenheit.setter\n",
        "    def fahrenheit(self, value):\n",
        "        self.celsius = (value - 32) * 5/9\n"
      ]
    },
    {
      "cell_type": "code",
      "source": [
        "# Usage\n",
        "temp = Temperature()\n",
        "temp.celsius = 25  # Clean attribute-like access with validation\n",
        "print(f\"{temp.celsius}°C = {temp.fahrenheit}°F\")"
      ],
      "metadata": {
        "colab": {
          "base_uri": "https://localhost:8080/"
        },
        "id": "wzy5QMa1mnP5",
        "outputId": "dd35e150-1a5a-4729-c3fb-396663bc6b4b"
      },
      "execution_count": null,
      "outputs": [
        {
          "output_type": "stream",
          "name": "stdout",
          "text": [
            "25°C = 77.0°F\n"
          ]
        }
      ]
    },
    {
      "cell_type": "markdown",
      "source": [
        "## @cached_property"
      ],
      "metadata": {
        "id": "ChLNUsra7TD9"
      }
    },
    {
      "cell_type": "code",
      "source": [
        "from functools import cached_property\n",
        "import time\n",
        "\n",
        "class DataAnalyzer:\n",
        "    def __init__(self, dataset):\n",
        "        self.dataset = dataset\n",
        "\n",
        "    @cached_property\n",
        "    def complex_analysis(self):\n",
        "        print(\"Running expensive analysis...\")\n",
        "        time.sleep(2)  # Simulating heavy computation\n",
        "        return sum(x**2 for x in self.dataset)\n"
      ],
      "metadata": {
        "id": "az7Txud-m214"
      },
      "execution_count": null,
      "outputs": []
    },
    {
      "cell_type": "code",
      "source": [
        "# Usage\n",
        "analyzer = DataAnalyzer(range(1000000))\n",
        "print(\"First access:\")\n",
        "t1 = time.time()\n",
        "result1 = analyzer.complex_analysis\n",
        "t2 = time.time()\n",
        "print(f\"Result: {result1}, Time: {t2-t1:.2f}s\")\n",
        "\n",
        "print(\"\\nSecond access:\")\n",
        "t1 = time.time()\n",
        "result2 = analyzer.complex_analysis\n",
        "t2 = time.time()\n",
        "print(f\"Result: {result2}, Time: {t2-t1:.2f}s\")"
      ],
      "metadata": {
        "colab": {
          "base_uri": "https://localhost:8080/"
        },
        "id": "5FIMLx-cm5Tu",
        "outputId": "f400f41b-f6b3-466f-b9e4-e02353948a7f"
      },
      "execution_count": null,
      "outputs": [
        {
          "output_type": "stream",
          "name": "stdout",
          "text": [
            "First access:\n",
            "Running expensive analysis...\n",
            "Result: 333332833333500000, Time: 2.23s\n",
            "\n",
            "Second access:\n",
            "Result: 333332833333500000, Time: 0.00s\n"
          ]
        }
      ]
    },
    {
      "cell_type": "markdown",
      "source": [
        "## @lru_cache"
      ],
      "metadata": {
        "id": "66jwdxZL8SVK"
      }
    },
    {
      "cell_type": "code",
      "source": [
        "from functools import lru_cache\n",
        "\n",
        "@lru_cache(maxsize=128)\n",
        "def fibonacci(n):\n",
        "    if n < 2:\n",
        "        return n\n",
        "    return fibonacci(n-1) + fibonacci(n-2)\n",
        "\n",
        "# Watch how fast this runs compared to non-cached version\n",
        "import time\n",
        "start = time.time()\n",
        "result = fibonacci(35)\n",
        "end = time.time()\n",
        "print(f\"Fibonacci(35) = {result}, calculated in {end-start:.6f} seconds\")\n",
        "\n",
        "# Check cache statistics\n",
        "print(f\"Cache info: {fibonacci.cache_info()}\")"
      ],
      "metadata": {
        "colab": {
          "base_uri": "https://localhost:8080/"
        },
        "id": "WrZHBggrm6ZC",
        "outputId": "f07dfd83-9b0b-4429-a44e-773daf464185"
      },
      "execution_count": null,
      "outputs": [
        {
          "output_type": "stream",
          "name": "stdout",
          "text": [
            "Fibonacci(35) = 9227465, calculated in 0.000108 seconds\n",
            "Cache info: CacheInfo(hits=33, misses=36, maxsize=128, currsize=36)\n"
          ]
        }
      ]
    },
    {
      "cell_type": "markdown",
      "source": [
        "## @contextlib.contextmanager"
      ],
      "metadata": {
        "id": "bWWq80XG8Wqz"
      }
    },
    {
      "cell_type": "code",
      "source": [
        "from contextlib import contextmanager\n",
        "\n",
        "@contextmanager\n",
        "def file_manager(filename, mode):\n",
        "    try:\n",
        "        f = open(filename, mode)\n",
        "        yield f\n",
        "    finally:\n",
        "        f.close()\n",
        "\n",
        "@contextmanager\n",
        "def timer():\n",
        "    import time\n",
        "    start = time.time()\n",
        "    yield\n",
        "    elapsed = time.time() - start\n",
        "    print(f\"Elapsed time: {elapsed:.6f} seconds\")\n"
      ],
      "metadata": {
        "id": "yfJps0SonFbg"
      },
      "execution_count": null,
      "outputs": []
    },
    {
      "cell_type": "code",
      "source": [
        "# Usage\n",
        "with file_manager('test.txt', 'w') as f:\n",
        "    f.write('Hello, context managers!')\n",
        "\n",
        "with timer():\n",
        "    # Code to time\n",
        "    sum(i*i for i in range(1000000))"
      ],
      "metadata": {
        "colab": {
          "base_uri": "https://localhost:8080/"
        },
        "id": "p1XJal73nWlP",
        "outputId": "23fa552e-5f6f-4440-db11-585b18d1bc11"
      },
      "execution_count": null,
      "outputs": [
        {
          "output_type": "stream",
          "name": "stdout",
          "text": [
            "Elapsed time: 0.242454 seconds\n"
          ]
        }
      ]
    },
    {
      "cell_type": "markdown",
      "source": [
        "## @functools.singledispatch"
      ],
      "metadata": {
        "id": "cZIU98QF8dXu"
      }
    },
    {
      "cell_type": "code",
      "source": [
        "from functools import singledispatch\n",
        "from datetime import date, datetime\n",
        "\n",
        "@singledispatch\n",
        "def format_output(obj):\n",
        "    return str(obj)\n",
        "\n",
        "@format_output.register\n",
        "def _(obj: int):\n",
        "    return f\"INTEGER: {obj:+d}\"\n",
        "\n",
        "@format_output.register\n",
        "def _(obj: float):\n",
        "    return f\"FLOAT: {obj:.2f}\"\n",
        "\n",
        "@format_output.register\n",
        "def _(obj: date):\n",
        "    return f\"DATE: {obj.strftime('%Y-%m-%d')}\"\n",
        "\n",
        "@format_output.register(list)\n",
        "def _(obj):\n",
        "    return f\"LIST: {', '.join(format_output(x) for x in obj)}\""
      ],
      "metadata": {
        "id": "g4U4jLRlnX5C"
      },
      "execution_count": null,
      "outputs": []
    },
    {
      "cell_type": "code",
      "source": [
        "# Usage\n",
        "results = [\n",
        "    format_output(\"Hello\"),\n",
        "    format_output(42),\n",
        "    format_output(-3.14159),\n",
        "    format_output(date(2025, 2, 21)),\n",
        "    format_output([1, 2.5, \"three\"])\n",
        "]\n",
        "\n",
        "for r in results:\n",
        "    print(r)"
      ],
      "metadata": {
        "colab": {
          "base_uri": "https://localhost:8080/"
        },
        "id": "hGzZfplSnkSc",
        "outputId": "b860a287-ef8e-49d1-8956-1d720589a458"
      },
      "execution_count": null,
      "outputs": [
        {
          "output_type": "stream",
          "name": "stdout",
          "text": [
            "Hello\n",
            "INTEGER: +42\n",
            "FLOAT: -3.14\n",
            "DATE: 2025-02-21\n",
            "LIST: INTEGER: +1, FLOAT: 2.50, three\n"
          ]
        }
      ]
    },
    {
      "cell_type": "markdown",
      "source": [
        "## @functools.total_ordering"
      ],
      "metadata": {
        "id": "dHp3iG-l8i4o"
      }
    },
    {
      "cell_type": "code",
      "source": [
        "from functools import total_ordering\n",
        "\n",
        "@total_ordering\n",
        "class Version:\n",
        "    def __init__(self, major, minor, patch):\n",
        "        self.major = major\n",
        "        self.minor = minor\n",
        "        self.patch = patch\n",
        "\n",
        "    def __eq__(self, other):\n",
        "        if not isinstance(other, Version):\n",
        "            return NotImplemented\n",
        "        return (self.major, self.minor, self.patch) == (other.major, other.minor, other.patch)\n",
        "\n",
        "    def __lt__(self, other):\n",
        "        if not isinstance(other, Version):\n",
        "            return NotImplemented\n",
        "        return (self.major, self.minor, self.patch) < (other.major, other.minor, other.patch)\n",
        "\n",
        "    def __repr__(self):\n",
        "        return f\"v{self.major}.{self.minor}.{self.patch}\""
      ],
      "metadata": {
        "id": "GGkJpChxnmM5"
      },
      "execution_count": null,
      "outputs": []
    },
    {
      "cell_type": "code",
      "source": [
        "# Usage\n",
        "versions = [\n",
        "    Version(2, 0, 0),\n",
        "    Version(1, 9, 5),\n",
        "    Version(1, 11, 0),\n",
        "    Version(2, 0, 1)\n",
        "]\n",
        "\n",
        "print(f\"Sorted versions: {sorted(versions)}\")\n",
        "print(f\"v1.9.5 > v1.11.0: {Version(1, 9, 5) > Version(1, 11, 0)}\")\n",
        "print(f\"v2.0.0 >= v2.0.0: {Version(2, 0, 0) >= Version(2, 0, 0)}\")\n",
        "print(f\"v2.0.1 <= v2.0.0: {Version(2, 0, 1) <= Version(2, 0, 0)}\")"
      ],
      "metadata": {
        "colab": {
          "base_uri": "https://localhost:8080/"
        },
        "id": "WlLqK7uUn3I6",
        "outputId": "c6bf696e-143a-4428-b9c6-dab7619cd797"
      },
      "execution_count": null,
      "outputs": [
        {
          "output_type": "stream",
          "name": "stdout",
          "text": [
            "Sorted versions: [v1.9.5, v1.11.0, v2.0.0, v2.0.1]\n",
            "v1.9.5 > v1.11.0: False\n",
            "v2.0.0 >= v2.0.0: True\n",
            "v2.0.1 <= v2.0.0: False\n"
          ]
        }
      ]
    },
    {
      "cell_type": "markdown",
      "source": [
        "## @functools.wraps"
      ],
      "metadata": {
        "id": "Nfe9sJ3e8oFy"
      }
    },
    {
      "cell_type": "code",
      "source": [
        "import functools\n",
        "\n",
        "def log_execution(func):\n",
        "    @functools.wraps(func)  # Preserves func's name, docstring, etc.\n",
        "    def wrapper(*args, **kwargs):\n",
        "        print(f\"Calling {func.__name__} with args: {args}, kwargs: {kwargs}\")\n",
        "        result = func(*args, **kwargs)\n",
        "        print(f\"{func.__name__} returned: {result}\")\n",
        "        return result\n",
        "    return wrapper\n",
        "\n",
        "@log_execution\n",
        "def add(a, b):\n",
        "    \"\"\"Add two numbers and return the result.\"\"\"\n",
        "    return a + b\n",
        "\n",
        "# Without @wraps, help(add) would show wrapper's info\n",
        "help(add)  # Shows the original docstring\n",
        "print(f\"Function name: {add.__name__}\")  # Shows \"add\", not \"wrapper\"\n",
        "\n",
        "result = add(5, 3)"
      ],
      "metadata": {
        "colab": {
          "base_uri": "https://localhost:8080/"
        },
        "id": "PMPE_37qn4_A",
        "outputId": "3c833c42-d29a-44cb-c06b-a8b285ff2545"
      },
      "execution_count": null,
      "outputs": [
        {
          "output_type": "stream",
          "name": "stdout",
          "text": [
            "Help on function add in module __main__:\n",
            "\n",
            "add(a, b)\n",
            "    Add two numbers and return the result.\n",
            "\n",
            "Function name: add\n",
            "Calling add with args: (5, 3), kwargs: {}\n",
            "add returned: 8\n"
          ]
        }
      ]
    },
    {
      "cell_type": "code",
      "source": [],
      "metadata": {
        "id": "k3qWujRNoD2L"
      },
      "execution_count": null,
      "outputs": []
    }
  ]
}