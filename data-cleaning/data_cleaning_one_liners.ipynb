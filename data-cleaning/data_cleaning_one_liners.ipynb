{
  "nbformat": 4,
  "nbformat_minor": 0,
  "metadata": {
    "colab": {
      "provenance": []
    },
    "kernelspec": {
      "name": "python3",
      "display_name": "Python 3"
    },
    "language_info": {
      "name": "python"
    }
  },
  "cells": [
    {
      "cell_type": "markdown",
      "source": [
        "## Sample Data"
      ],
      "metadata": {
        "id": "I32ZuXl9HGpi"
      }
    },
    {
      "cell_type": "code",
      "source": [
        "data = [\n",
        "\t{\"name\": \"alice smith\", \"age\": 30, \"email\": \"alice@example.com\", \"salary\": 50000.00, \"join_date\": \"2022-03-15\"},\n",
        "\t{\"name\": \"bob gray\", \"age\": 17, \"email\": \"bob@not-an-email\", \"salary\": 60000.00, \"join_date\": \"invalid-date\"},\n",
        "\t{\"name\": \"charlie brown\", \"age\": None, \"email\": \"charlie@example.com\", \"salary\": -1500.00, \"join_date\": \"2022-09-21\"},\n",
        "\t{\"name\": \"dave davis\", \"age\": 45, \"email\": \"dave@example.com\", \"salary\": 70000.00, \"join_date\": \"2021-07-01\"},\n",
        "\t{\"name\": \"eve green\", \"age\": 25, \"email\": \"eve@example.com\", \"salary\": None, \"join_date\": \"2023-12-31\"},\n",
        "]"
      ],
      "metadata": {
        "id": "g8DAlQ7a3VaX"
      },
      "execution_count": 1,
      "outputs": []
    },
    {
      "cell_type": "markdown",
      "source": [
        "## Data Cleaning One-Liners"
      ],
      "metadata": {
        "id": "l_GtyrFMHLPJ"
      }
    },
    {
      "cell_type": "code",
      "source": [
        "# Capitalizing the names for consistency\n",
        "data = [{**d, \"name\": d[\"name\"].title()} for d in data]"
      ],
      "metadata": {
        "id": "UbChkQyk6bBf"
      },
      "execution_count": 2,
      "outputs": []
    },
    {
      "cell_type": "code",
      "source": [
        "# Converting age to an integer type, defaulting to 25 if conversion fails\n",
        "data = [{**d, \"age\": int(d[\"age\"]) if isinstance(d[\"age\"], (int, float)) else 25} for d in data]"
      ],
      "metadata": {
        "id": "EiTeBxJ37Kn-"
      },
      "execution_count": 3,
      "outputs": []
    },
    {
      "cell_type": "code",
      "source": [
        "# Ensuring age is an integer within the range of 18 to 60; otherwise, set to 25\n",
        "data = [{**d, \"age\": d[\"age\"] if isinstance(d[\"age\"], int) and 18 <= d[\"age\"] <= 60 else 25} for d in data]"
      ],
      "metadata": {
        "id": "Bekzwl3k6bdF"
      },
      "execution_count": 4,
      "outputs": []
    },
    {
      "cell_type": "code",
      "source": [
        "data = [{**d, \"email\": d[\"email\"] if \"@\" in d[\"email\"] and \".\" in d[\"email\"] else \"invalid@example.com\"} for d in data]"
      ],
      "metadata": {
        "id": "OSg1V-e26dQP"
      },
      "execution_count": 5,
      "outputs": []
    },
    {
      "cell_type": "code",
      "source": [
        "data = [{**d, \"salary\": d[\"salary\"] if d[\"salary\"] is not None else 30000.00} for d in data]"
      ],
      "metadata": {
        "id": "0EddJ3hX6fZ-"
      },
      "execution_count": 6,
      "outputs": []
    },
    {
      "cell_type": "code",
      "source": [
        "from datetime import datetime\n",
        "data = [{**d, \"join_date\": (lambda x: (datetime.strptime(x, '%Y-%m-%d').date() if '-' in x and len(x) == 10 else datetime.strptime(x, '%d-%m-%Y').date()) if x and 'invalid-date' not in x else '2023-01-01')(d['join_date'])} for d in data]\n"
      ],
      "metadata": {
        "id": "peV6gzs06hpK"
      },
      "execution_count": 7,
      "outputs": []
    },
    {
      "cell_type": "code",
      "source": [
        "# Replacing negative salary values with zero to ensure all values are non-negative.\n",
        "data = [{**d, \"salary\": max(d[\"salary\"], 0)} for d in data]"
      ],
      "metadata": {
        "id": "pvCwX5Dv6jhs"
      },
      "execution_count": 8,
      "outputs": []
    },
    {
      "cell_type": "code",
      "source": [
        "# Keeping only unique entries based on the name field\n",
        "data = {tuple(d.items()) for d in data}  # Using a set to remove duplicates\n",
        "data = [dict(t) for t in data]  # Converting back to list of dictionaries"
      ],
      "metadata": {
        "id": "3sITtMbD6nwm"
      },
      "execution_count": 9,
      "outputs": []
    },
    {
      "cell_type": "code",
      "source": [
        "# Normalizing salary values to a percentage of the maximum salary\n",
        "max_salary = max(d[\"salary\"] for d in data)\n",
        "data = [{**d, \"salary\": (d[\"salary\"] / max_salary * 100) if max_salary > 0 else 0} for d in data]"
      ],
      "metadata": {
        "id": "O35E6Inm6pfV"
      },
      "execution_count": 10,
      "outputs": []
    },
    {
      "cell_type": "code",
      "source": [
        "# Trimming whitespace from names for cleaner data\n",
        "data = [{**d, \"name\": d[\"name\"].strip()} for d in data]"
      ],
      "metadata": {
        "id": "ZDLsoMou6rDO"
      },
      "execution_count": 11,
      "outputs": []
    },
    {
      "cell_type": "markdown",
      "source": [
        "## Data After Cleaning Steps"
      ],
      "metadata": {
        "id": "nHieFDdwHOhO"
      }
    },
    {
      "cell_type": "code",
      "source": [
        "data"
      ],
      "metadata": {
        "colab": {
          "base_uri": "https://localhost:8080/"
        },
        "id": "Wjd2ogiO7U4-",
        "outputId": "39508a79-ddff-484e-ade6-f8d062f9728d"
      },
      "execution_count": 12,
      "outputs": [
        {
          "output_type": "execute_result",
          "data": {
            "text/plain": [
              "[{'name': 'Bob Gray',\n",
              "  'age': 25,\n",
              "  'email': 'invalid@example.com',\n",
              "  'salary': 85.71428571428571,\n",
              "  'join_date': '2023-01-01'},\n",
              " {'name': 'Alice Smith',\n",
              "  'age': 30,\n",
              "  'email': 'alice@example.com',\n",
              "  'salary': 71.42857142857143,\n",
              "  'join_date': datetime.date(2022, 3, 15)},\n",
              " {'name': 'Charlie Brown',\n",
              "  'age': 25,\n",
              "  'email': 'charlie@example.com',\n",
              "  'salary': 0.0,\n",
              "  'join_date': datetime.date(2022, 9, 21)},\n",
              " {'name': 'Dave Davis',\n",
              "  'age': 45,\n",
              "  'email': 'dave@example.com',\n",
              "  'salary': 100.0,\n",
              "  'join_date': datetime.date(2021, 7, 1)},\n",
              " {'name': 'Eve Green',\n",
              "  'age': 25,\n",
              "  'email': 'eve@example.com',\n",
              "  'salary': 42.857142857142854,\n",
              "  'join_date': datetime.date(2023, 12, 31)}]"
            ]
          },
          "metadata": {},
          "execution_count": 12
        }
      ]
    }
  ]
}